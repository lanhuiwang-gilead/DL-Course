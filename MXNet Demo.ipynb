{
 "cells": [
  {
   "cell_type": "markdown",
   "metadata": {},
   "source": [
    "### NDArray\n",
    "In the following cells you learn how to create the low level mxnet NDArrays. "
   ]
  },
  {
   "cell_type": "code",
   "execution_count": 1,
   "metadata": {},
   "outputs": [],
   "source": [
    "import mxnet as mx\n",
    "from mxnet import nd\n",
    "import numpy as np"
   ]
  },
  {
   "cell_type": "code",
   "execution_count": 2,
   "metadata": {},
   "outputs": [],
   "source": [
    "a=nd.array(((10,20,30),\n",
    "          (40,50,60)))"
   ]
  },
  {
   "cell_type": "code",
   "execution_count": 3,
   "metadata": {},
   "outputs": [
    {
     "data": {
      "text/plain": [
       "(2, 3)"
      ]
     },
     "execution_count": 3,
     "metadata": {},
     "output_type": "execute_result"
    }
   ],
   "source": [
    "a.shape"
   ]
  },
  {
   "cell_type": "code",
   "execution_count": 4,
   "metadata": {},
   "outputs": [
    {
     "data": {
      "text/plain": [
       "6"
      ]
     },
     "execution_count": 4,
     "metadata": {},
     "output_type": "execute_result"
    }
   ],
   "source": [
    "a.size"
   ]
  },
  {
   "cell_type": "code",
   "execution_count": 5,
   "metadata": {},
   "outputs": [
    {
     "data": {
      "text/plain": [
       "numpy.float32"
      ]
     },
     "execution_count": 5,
     "metadata": {},
     "output_type": "execute_result"
    }
   ],
   "source": [
    "a.dtype"
   ]
  },
  {
   "cell_type": "code",
   "execution_count": 6,
   "metadata": {},
   "outputs": [
    {
     "data": {
      "text/plain": [
       "\n",
       "[[1. 1. 1.]\n",
       " [1. 1. 1.]]\n",
       "<NDArray 2x3 @cpu(0)>"
      ]
     },
     "execution_count": 6,
     "metadata": {},
     "output_type": "execute_result"
    }
   ],
   "source": [
    "b=nd.ones((2,3))\n",
    "b"
   ]
  },
  {
   "cell_type": "code",
   "execution_count": 7,
   "metadata": {},
   "outputs": [
    {
     "data": {
      "text/plain": [
       "\n",
       "[[0.09762704 0.18568921 0.43037868]\n",
       " [0.6885315  0.20552671 0.71589124]]\n",
       "<NDArray 2x3 @cpu(0)>"
      ]
     },
     "execution_count": 7,
     "metadata": {},
     "output_type": "execute_result"
    }
   ],
   "source": [
    "c=nd.random.uniform (-1,1, (2,3))\n",
    "c"
   ]
  },
  {
   "cell_type": "code",
   "execution_count": 8,
   "metadata": {},
   "outputs": [
    {
     "data": {
      "text/plain": [
       "\n",
       "[[10. 10. 10.]\n",
       " [10. 10. 10.]]\n",
       "<NDArray 2x3 @cpu(0)>"
      ]
     },
     "execution_count": 8,
     "metadata": {},
     "output_type": "execute_result"
    }
   ],
   "source": [
    "d=nd.full((2,3), 10)\n",
    "d"
   ]
  },
  {
   "cell_type": "markdown",
   "metadata": {},
   "source": [
    "We can run element level operations on the ndarrays:"
   ]
  },
  {
   "cell_type": "code",
   "execution_count": 9,
   "metadata": {},
   "outputs": [
    {
     "data": {
      "text/plain": [
       "(\n",
       " [[10. 20. 30.]\n",
       "  [40. 50. 60.]]\n",
       " <NDArray 2x3 @cpu(0)>,\n",
       " \n",
       " [[1. 1. 1.]\n",
       "  [1. 1. 1.]]\n",
       " <NDArray 2x3 @cpu(0)>,\n",
       " \n",
       " [[ 9. 19. 29.]\n",
       "  [39. 49. 59.]]\n",
       " <NDArray 2x3 @cpu(0)>,\n",
       " \n",
       " [[11. 21. 31.]\n",
       "  [41. 51. 61.]]\n",
       " <NDArray 2x3 @cpu(0)>)"
      ]
     },
     "execution_count": 9,
     "metadata": {},
     "output_type": "execute_result"
    }
   ],
   "source": [
    "a,b,a-b, a+b"
   ]
  },
  {
   "cell_type": "markdown",
   "metadata": {},
   "source": [
    "One property that is not available in the Numpy ndarray is running mxnet ndarray in a context of either in CPU or GPU.  That is stored in the context property of an mxnet ndarray and is available as shown below:"
   ]
  },
  {
   "cell_type": "code",
   "execution_count": 10,
   "metadata": {},
   "outputs": [
    {
     "data": {
      "text/plain": [
       "cpu(0)"
      ]
     },
     "execution_count": 10,
     "metadata": {},
     "output_type": "execute_result"
    }
   ],
   "source": [
    "a.context"
   ]
  },
  {
   "cell_type": "markdown",
   "metadata": {},
   "source": [
    "When we convert an mxnet ndarray to numpy ndarray, it will loss its device context. As you see, in the following example, we do not have device context in the a_numpy anymore:"
   ]
  },
  {
   "cell_type": "code",
   "execution_count": 11,
   "metadata": {},
   "outputs": [
    {
     "data": {
      "text/plain": [
       "array([[10., 20., 30.],\n",
       "       [40., 50., 60.]], dtype=float32)"
      ]
     },
     "execution_count": 11,
     "metadata": {},
     "output_type": "execute_result"
    }
   ],
   "source": [
    "a_numpy=a.asnumpy()\n",
    "a_numpy"
   ]
  },
  {
   "cell_type": "markdown",
   "metadata": {},
   "source": [
    "In mxnet, when we transpose an ndarray, we ceate a new copy of the data:"
   ]
  },
  {
   "cell_type": "code",
   "execution_count": 12,
   "metadata": {},
   "outputs": [
    {
     "data": {
      "text/plain": [
       "\n",
       "[[10. 10. 10.]\n",
       " [10. 10. 10.]]\n",
       "<NDArray 2x3 @cpu(0)>"
      ]
     },
     "execution_count": 12,
     "metadata": {},
     "output_type": "execute_result"
    }
   ],
   "source": [
    "d"
   ]
  },
  {
   "cell_type": "code",
   "execution_count": 13,
   "metadata": {},
   "outputs": [],
   "source": [
    "e=d.T"
   ]
  },
  {
   "cell_type": "code",
   "execution_count": 14,
   "metadata": {},
   "outputs": [
    {
     "data": {
      "text/plain": [
       "(\n",
       " [[10. 10.]\n",
       "  [10. 10.]\n",
       "  [10. 10.]]\n",
       " <NDArray 3x2 @cpu(0)>,\n",
       " \n",
       " [[10. 10. 10.]\n",
       "  [10. 10. 10.]]\n",
       " <NDArray 2x3 @cpu(0)>)"
      ]
     },
     "execution_count": 14,
     "metadata": {},
     "output_type": "execute_result"
    }
   ],
   "source": [
    "e,d"
   ]
  },
  {
   "cell_type": "markdown",
   "metadata": {},
   "source": [
    "----------------------------"
   ]
  },
  {
   "cell_type": "markdown",
   "metadata": {},
   "source": [
    "### Symbol API\n",
    "In mxnet we can create computational graphs by Symbol API. Let's try the Symbol API"
   ]
  },
  {
   "cell_type": "code",
   "execution_count": 15,
   "metadata": {},
   "outputs": [],
   "source": [
    "import mxnet as mx\n",
    "from mxnet import nd\n",
    "import symbol as sym\n"
   ]
  },
  {
   "cell_type": "markdown",
   "metadata": {},
   "source": [
    "We create a variable and later we \"bind\" a value to it. At the begining it is free, meaning it is not bounded to any value. We want to create a symbol for the following equation:  $$result=x*y+z$$"
   ]
  },
  {
   "cell_type": "code",
   "execution_count": 16,
   "metadata": {},
   "outputs": [
    {
     "data": {
      "text/plain": [
       "<Symbol X>"
      ]
     },
     "execution_count": 16,
     "metadata": {},
     "output_type": "execute_result"
    }
   ],
   "source": [
    "x=mx.sym.Variable('X')\n",
    "x"
   ]
  },
  {
   "cell_type": "code",
   "execution_count": 17,
   "metadata": {},
   "outputs": [],
   "source": [
    "y=mx.sym.Variable('Y')"
   ]
  },
  {
   "cell_type": "code",
   "execution_count": 18,
   "metadata": {},
   "outputs": [],
   "source": [
    "z=mx.sym.Variable('z')\n"
   ]
  },
  {
   "cell_type": "markdown",
   "metadata": {},
   "source": [
    "Now let's create a computation graph for the \"result\""
   ]
  },
  {
   "cell_type": "code",
   "execution_count": 19,
   "metadata": {},
   "outputs": [],
   "source": [
    "result=(x.__mul__(y).__add__(z))"
   ]
  },
  {
   "cell_type": "code",
   "execution_count": 20,
   "metadata": {},
   "outputs": [
    {
     "data": {
      "text/plain": [
       "<Symbol _plus0>"
      ]
     },
     "execution_count": 20,
     "metadata": {},
     "output_type": "execute_result"
    }
   ],
   "source": [
    "result"
   ]
  },
  {
   "cell_type": "markdown",
   "metadata": {},
   "source": [
    "The $ plus0 $ in above output is the name of the symbol that mxnet has assigned to this graph."
   ]
  },
  {
   "cell_type": "markdown",
   "metadata": {},
   "source": [
    "To see the list of arguments in the computation graph:"
   ]
  },
  {
   "cell_type": "code",
   "execution_count": 21,
   "metadata": {},
   "outputs": [
    {
     "data": {
      "text/plain": [
       "['X', 'Y', 'z']"
      ]
     },
     "execution_count": 21,
     "metadata": {},
     "output_type": "execute_result"
    }
   ],
   "source": [
    "result.list_arguments()"
   ]
  },
  {
   "cell_type": "markdown",
   "metadata": {},
   "source": [
    "We can also start adding a few operations by the variables we created above:"
   ]
  },
  {
   "cell_type": "code",
   "execution_count": 22,
   "metadata": {},
   "outputs": [
    {
     "data": {
      "image/svg+xml": [
       "<?xml version=\"1.0\" encoding=\"UTF-8\" standalone=\"no\"?>\n",
       "<!DOCTYPE svg PUBLIC \"-//W3C//DTD SVG 1.1//EN\"\n",
       " \"http://www.w3.org/Graphics/SVG/1.1/DTD/svg11.dtd\">\n",
       "<!-- Generated by graphviz version 3.0.0 (20220226.1711)\n",
       " -->\n",
       "<!-- Title: plot Pages: 1 -->\n",
       "<svg width=\"214pt\" height=\"160pt\"\n",
       " viewBox=\"0.00 0.00 214.00 160.00\" xmlns=\"http://www.w3.org/2000/svg\" xmlns:xlink=\"http://www.w3.org/1999/xlink\">\n",
       "<g id=\"graph0\" class=\"graph\" transform=\"scale(1 1) rotate(0) translate(4 156)\">\n",
       "<title>plot</title>\n",
       "<polygon fill=\"white\" stroke=\"transparent\" points=\"-4,4 -4,-156 210,-156 210,4 -4,4\"/>\n",
       "<!-- X -->\n",
       "<g id=\"node1\" class=\"node\">\n",
       "<title>X</title>\n",
       "<ellipse fill=\"#8dd3c7\" stroke=\"black\" cx=\"47\" cy=\"-29\" rx=\"47\" ry=\"29\"/>\n",
       "<text text-anchor=\"middle\" x=\"47\" y=\"-25.3\" font-family=\"Times,serif\" font-size=\"14.00\">X</text>\n",
       "</g>\n",
       "<!-- Y -->\n",
       "<g id=\"node2\" class=\"node\">\n",
       "<title>Y</title>\n",
       "<ellipse fill=\"#8dd3c7\" stroke=\"black\" cx=\"159\" cy=\"-29\" rx=\"47\" ry=\"29\"/>\n",
       "<text text-anchor=\"middle\" x=\"159\" y=\"-25.3\" font-family=\"Times,serif\" font-size=\"14.00\">Y</text>\n",
       "</g>\n",
       "<!-- _mul1 -->\n",
       "<g id=\"node3\" class=\"node\">\n",
       "<title>_mul1</title>\n",
       "<polygon fill=\"#fccde5\" stroke=\"black\" points=\"150,-152 56,-152 56,-94 150,-94 150,-152\"/>\n",
       "<text text-anchor=\"middle\" x=\"103\" y=\"-119.3\" font-family=\"Times,serif\" font-size=\"14.00\">_mul1</text>\n",
       "</g>\n",
       "<!-- _mul1&#45;&gt;X -->\n",
       "<g id=\"edge1\" class=\"edge\">\n",
       "<title>_mul1&#45;&gt;X</title>\n",
       "<path fill=\"none\" stroke=\"black\" d=\"M80.62,-85.24C74.74,-75.58 68.52,-65.35 63.05,-56.36\"/>\n",
       "<polygon fill=\"black\" stroke=\"black\" points=\"85.89,-93.9 76.85,-87.69 83.29,-89.63 80.69,-85.36 80.69,-85.36 80.69,-85.36 83.29,-89.63 84.54,-83.02 85.89,-93.9 85.89,-93.9\"/>\n",
       "</g>\n",
       "<!-- _mul1&#45;&gt;Y -->\n",
       "<g id=\"edge2\" class=\"edge\">\n",
       "<title>_mul1&#45;&gt;Y</title>\n",
       "<path fill=\"none\" stroke=\"black\" d=\"M125.38,-85.24C131.26,-75.58 137.48,-65.35 142.95,-56.36\"/>\n",
       "<polygon fill=\"black\" stroke=\"black\" points=\"120.11,-93.9 121.46,-83.02 122.71,-89.63 125.31,-85.36 125.31,-85.36 125.31,-85.36 122.71,-89.63 129.15,-87.69 120.11,-93.9 120.11,-93.9\"/>\n",
       "</g>\n",
       "</g>\n",
       "</svg>\n"
      ],
      "text/plain": [
       "<graphviz.dot.Digraph at 0x7ff23c0f1c10>"
      ]
     },
     "execution_count": 22,
     "metadata": {},
     "output_type": "execute_result"
    }
   ],
   "source": [
    "mul=x*y\n",
    "mx.viz.plot_network (symbol=mul)"
   ]
  },
  {
   "cell_type": "code",
   "execution_count": 23,
   "metadata": {},
   "outputs": [
    {
     "data": {
      "image/svg+xml": [
       "<?xml version=\"1.0\" encoding=\"UTF-8\" standalone=\"no\"?>\n",
       "<!DOCTYPE svg PUBLIC \"-//W3C//DTD SVG 1.1//EN\"\n",
       " \"http://www.w3.org/Graphics/SVG/1.1/DTD/svg11.dtd\">\n",
       "<!-- Generated by graphviz version 3.0.0 (20220226.1711)\n",
       " -->\n",
       "<!-- Title: plot Pages: 1 -->\n",
       "<svg width=\"214pt\" height=\"160pt\"\n",
       " viewBox=\"0.00 0.00 214.00 160.00\" xmlns=\"http://www.w3.org/2000/svg\" xmlns:xlink=\"http://www.w3.org/1999/xlink\">\n",
       "<g id=\"graph0\" class=\"graph\" transform=\"scale(1 1) rotate(0) translate(4 156)\">\n",
       "<title>plot</title>\n",
       "<polygon fill=\"white\" stroke=\"transparent\" points=\"-4,4 -4,-156 210,-156 210,4 -4,4\"/>\n",
       "<!-- X -->\n",
       "<g id=\"node1\" class=\"node\">\n",
       "<title>X</title>\n",
       "<ellipse fill=\"#8dd3c7\" stroke=\"black\" cx=\"47\" cy=\"-29\" rx=\"47\" ry=\"29\"/>\n",
       "<text text-anchor=\"middle\" x=\"47\" y=\"-25.3\" font-family=\"Times,serif\" font-size=\"14.00\">X</text>\n",
       "</g>\n",
       "<!-- Y -->\n",
       "<g id=\"node2\" class=\"node\">\n",
       "<title>Y</title>\n",
       "<ellipse fill=\"#8dd3c7\" stroke=\"black\" cx=\"159\" cy=\"-29\" rx=\"47\" ry=\"29\"/>\n",
       "<text text-anchor=\"middle\" x=\"159\" y=\"-25.3\" font-family=\"Times,serif\" font-size=\"14.00\">Y</text>\n",
       "</g>\n",
       "<!-- dot0 -->\n",
       "<g id=\"node3\" class=\"node\">\n",
       "<title>dot0</title>\n",
       "<polygon fill=\"#fccde5\" stroke=\"black\" points=\"150,-152 56,-152 56,-94 150,-94 150,-152\"/>\n",
       "<text text-anchor=\"middle\" x=\"103\" y=\"-119.3\" font-family=\"Times,serif\" font-size=\"14.00\">dot0</text>\n",
       "</g>\n",
       "<!-- dot0&#45;&gt;X -->\n",
       "<g id=\"edge1\" class=\"edge\">\n",
       "<title>dot0&#45;&gt;X</title>\n",
       "<path fill=\"none\" stroke=\"black\" d=\"M80.62,-85.24C74.74,-75.58 68.52,-65.35 63.05,-56.36\"/>\n",
       "<polygon fill=\"black\" stroke=\"black\" points=\"85.89,-93.9 76.85,-87.69 83.29,-89.63 80.69,-85.36 80.69,-85.36 80.69,-85.36 83.29,-89.63 84.54,-83.02 85.89,-93.9 85.89,-93.9\"/>\n",
       "</g>\n",
       "<!-- dot0&#45;&gt;Y -->\n",
       "<g id=\"edge2\" class=\"edge\">\n",
       "<title>dot0&#45;&gt;Y</title>\n",
       "<path fill=\"none\" stroke=\"black\" d=\"M125.38,-85.24C131.26,-75.58 137.48,-65.35 142.95,-56.36\"/>\n",
       "<polygon fill=\"black\" stroke=\"black\" points=\"120.11,-93.9 121.46,-83.02 122.71,-89.63 125.31,-85.36 125.31,-85.36 125.31,-85.36 122.71,-89.63 129.15,-87.69 120.11,-93.9 120.11,-93.9\"/>\n",
       "</g>\n",
       "</g>\n",
       "</svg>\n"
      ],
      "text/plain": [
       "<graphviz.dot.Digraph at 0x7ff23c0f10d0>"
      ]
     },
     "execution_count": 23,
     "metadata": {},
     "output_type": "execute_result"
    }
   ],
   "source": [
    "dot=mx.sym.dot(x,y)\n",
    "mx.viz.plot_network (symbol=dot)"
   ]
  },
  {
   "cell_type": "code",
   "execution_count": 24,
   "metadata": {},
   "outputs": [
    {
     "data": {
      "image/svg+xml": [
       "<?xml version=\"1.0\" encoding=\"UTF-8\" standalone=\"no\"?>\n",
       "<!DOCTYPE svg PUBLIC \"-//W3C//DTD SVG 1.1//EN\"\n",
       " \"http://www.w3.org/Graphics/SVG/1.1/DTD/svg11.dtd\">\n",
       "<!-- Generated by graphviz version 3.0.0 (20220226.1711)\n",
       " -->\n",
       "<!-- Title: plot Pages: 1 -->\n",
       "<svg width=\"102pt\" height=\"160pt\"\n",
       " viewBox=\"0.00 0.00 102.00 160.00\" xmlns=\"http://www.w3.org/2000/svg\" xmlns:xlink=\"http://www.w3.org/1999/xlink\">\n",
       "<g id=\"graph0\" class=\"graph\" transform=\"scale(1 1) rotate(0) translate(4 156)\">\n",
       "<title>plot</title>\n",
       "<polygon fill=\"white\" stroke=\"transparent\" points=\"-4,4 -4,-156 98,-156 98,4 -4,4\"/>\n",
       "<!-- z -->\n",
       "<g id=\"node1\" class=\"node\">\n",
       "<title>z</title>\n",
       "<ellipse fill=\"#8dd3c7\" stroke=\"black\" cx=\"47\" cy=\"-29\" rx=\"47\" ry=\"29\"/>\n",
       "<text text-anchor=\"middle\" x=\"47\" y=\"-25.3\" font-family=\"Times,serif\" font-size=\"14.00\">z</text>\n",
       "</g>\n",
       "<!-- transpose0 -->\n",
       "<g id=\"node2\" class=\"node\">\n",
       "<title>transpose0</title>\n",
       "<polygon fill=\"#fccde5\" stroke=\"black\" points=\"94,-152 0,-152 0,-94 94,-94 94,-152\"/>\n",
       "<text text-anchor=\"middle\" x=\"47\" y=\"-119.3\" font-family=\"Times,serif\" font-size=\"14.00\">transpose0</text>\n",
       "</g>\n",
       "<!-- transpose0&#45;&gt;z -->\n",
       "<g id=\"edge1\" class=\"edge\">\n",
       "<title>transpose0&#45;&gt;z</title>\n",
       "<path fill=\"none\" stroke=\"black\" d=\"M47,-83.74C47,-75.2 47,-66.3 47,-58.25\"/>\n",
       "<polygon fill=\"black\" stroke=\"black\" points=\"47,-93.9 42.5,-83.9 47,-88.9 47,-83.9 47,-83.9 47,-83.9 47,-88.9 51.5,-83.9 47,-93.9 47,-93.9\"/>\n",
       "</g>\n",
       "</g>\n",
       "</svg>\n"
      ],
      "text/plain": [
       "<graphviz.dot.Digraph at 0x7ff239be6820>"
      ]
     },
     "execution_count": 24,
     "metadata": {},
     "output_type": "execute_result"
    }
   ],
   "source": [
    "zt=z.transpose()\n",
    "mx.viz.plot_network (symbol=zt)"
   ]
  },
  {
   "cell_type": "code",
   "execution_count": 25,
   "metadata": {},
   "outputs": [
    {
     "data": {
      "image/svg+xml": [
       "<?xml version=\"1.0\" encoding=\"UTF-8\" standalone=\"no\"?>\n",
       "<!DOCTYPE svg PUBLIC \"-//W3C//DTD SVG 1.1//EN\"\n",
       " \"http://www.w3.org/Graphics/SVG/1.1/DTD/svg11.dtd\">\n",
       "<!-- Generated by graphviz version 3.0.0 (20220226.1711)\n",
       " -->\n",
       "<!-- Title: plot Pages: 1 -->\n",
       "<svg width=\"326pt\" height=\"348pt\"\n",
       " viewBox=\"0.00 0.00 326.00 348.00\" xmlns=\"http://www.w3.org/2000/svg\" xmlns:xlink=\"http://www.w3.org/1999/xlink\">\n",
       "<g id=\"graph0\" class=\"graph\" transform=\"scale(1 1) rotate(0) translate(4 344)\">\n",
       "<title>plot</title>\n",
       "<polygon fill=\"white\" stroke=\"transparent\" points=\"-4,4 -4,-344 322,-344 322,4 -4,4\"/>\n",
       "<!-- X -->\n",
       "<g id=\"node1\" class=\"node\">\n",
       "<title>X</title>\n",
       "<ellipse fill=\"#8dd3c7\" stroke=\"black\" cx=\"47\" cy=\"-29\" rx=\"47\" ry=\"29\"/>\n",
       "<text text-anchor=\"middle\" x=\"47\" y=\"-25.3\" font-family=\"Times,serif\" font-size=\"14.00\">X</text>\n",
       "</g>\n",
       "<!-- Y -->\n",
       "<g id=\"node2\" class=\"node\">\n",
       "<title>Y</title>\n",
       "<ellipse fill=\"#8dd3c7\" stroke=\"black\" cx=\"159\" cy=\"-29\" rx=\"47\" ry=\"29\"/>\n",
       "<text text-anchor=\"middle\" x=\"159\" y=\"-25.3\" font-family=\"Times,serif\" font-size=\"14.00\">Y</text>\n",
       "</g>\n",
       "<!-- dot0 -->\n",
       "<g id=\"node3\" class=\"node\">\n",
       "<title>dot0</title>\n",
       "<polygon fill=\"#fccde5\" stroke=\"black\" points=\"206,-152 112,-152 112,-94 206,-94 206,-152\"/>\n",
       "<text text-anchor=\"middle\" x=\"159\" y=\"-119.3\" font-family=\"Times,serif\" font-size=\"14.00\">dot0</text>\n",
       "</g>\n",
       "<!-- dot0&#45;&gt;X -->\n",
       "<g id=\"edge1\" class=\"edge\">\n",
       "<title>dot0&#45;&gt;X</title>\n",
       "<path fill=\"none\" stroke=\"black\" d=\"M116.67,-87.23C102.6,-75.67 87.3,-63.1 74.63,-52.69\"/>\n",
       "<polygon fill=\"black\" stroke=\"black\" points=\"124.79,-93.9 114.2,-91.03 120.92,-90.72 117.06,-87.55 117.06,-87.55 117.06,-87.55 120.92,-90.72 119.92,-84.07 124.79,-93.9 124.79,-93.9\"/>\n",
       "</g>\n",
       "<!-- dot0&#45;&gt;Y -->\n",
       "<g id=\"edge2\" class=\"edge\">\n",
       "<title>dot0&#45;&gt;Y</title>\n",
       "<path fill=\"none\" stroke=\"black\" d=\"M159,-83.74C159,-75.2 159,-66.3 159,-58.25\"/>\n",
       "<polygon fill=\"black\" stroke=\"black\" points=\"159,-93.9 154.5,-83.9 159,-88.9 159,-83.9 159,-83.9 159,-83.9 159,-88.9 163.5,-83.9 159,-93.9 159,-93.9\"/>\n",
       "</g>\n",
       "<!-- z -->\n",
       "<g id=\"node4\" class=\"node\">\n",
       "<title>z</title>\n",
       "<ellipse fill=\"#8dd3c7\" stroke=\"black\" cx=\"271\" cy=\"-29\" rx=\"47\" ry=\"29\"/>\n",
       "<text text-anchor=\"middle\" x=\"271\" y=\"-25.3\" font-family=\"Times,serif\" font-size=\"14.00\">z</text>\n",
       "</g>\n",
       "<!-- transpose0 -->\n",
       "<g id=\"node5\" class=\"node\">\n",
       "<title>transpose0</title>\n",
       "<polygon fill=\"#fccde5\" stroke=\"black\" points=\"318,-152 224,-152 224,-94 318,-94 318,-152\"/>\n",
       "<text text-anchor=\"middle\" x=\"271\" y=\"-119.3\" font-family=\"Times,serif\" font-size=\"14.00\">transpose0</text>\n",
       "</g>\n",
       "<!-- transpose0&#45;&gt;z -->\n",
       "<g id=\"edge3\" class=\"edge\">\n",
       "<title>transpose0&#45;&gt;z</title>\n",
       "<path fill=\"none\" stroke=\"black\" d=\"M271,-83.74C271,-75.2 271,-66.3 271,-58.25\"/>\n",
       "<polygon fill=\"black\" stroke=\"black\" points=\"271,-93.9 266.5,-83.9 271,-88.9 271,-83.9 271,-83.9 271,-83.9 271,-88.9 275.5,-83.9 271,-93.9 271,-93.9\"/>\n",
       "</g>\n",
       "<!-- _plus1 -->\n",
       "<g id=\"node6\" class=\"node\">\n",
       "<title>_plus1</title>\n",
       "<polygon fill=\"#fccde5\" stroke=\"black\" points=\"262,-246 168,-246 168,-188 262,-188 262,-246\"/>\n",
       "<text text-anchor=\"middle\" x=\"215\" y=\"-213.3\" font-family=\"Times,serif\" font-size=\"14.00\">_plus1</text>\n",
       "</g>\n",
       "<!-- _plus1&#45;&gt;dot0 -->\n",
       "<g id=\"edge4\" class=\"edge\">\n",
       "<title>_plus1&#45;&gt;dot0</title>\n",
       "<path fill=\"none\" stroke=\"black\" d=\"M192.57,-179.15C187.11,-170.19 181.36,-160.74 176.19,-152.25\"/>\n",
       "<polygon fill=\"black\" stroke=\"black\" points=\"197.89,-187.9 188.85,-181.69 195.29,-183.63 192.69,-179.36 192.69,-179.36 192.69,-179.36 195.29,-183.63 196.54,-177.02 197.89,-187.9 197.89,-187.9\"/>\n",
       "</g>\n",
       "<!-- _plus1&#45;&gt;transpose0 -->\n",
       "<g id=\"edge5\" class=\"edge\">\n",
       "<title>_plus1&#45;&gt;transpose0</title>\n",
       "<path fill=\"none\" stroke=\"black\" d=\"M237.43,-179.15C242.89,-170.19 248.64,-160.74 253.81,-152.25\"/>\n",
       "<polygon fill=\"black\" stroke=\"black\" points=\"232.11,-187.9 233.46,-177.02 234.71,-183.63 237.31,-179.36 237.31,-179.36 237.31,-179.36 234.71,-183.63 241.15,-181.69 232.11,-187.9 232.11,-187.9\"/>\n",
       "</g>\n",
       "<!-- reshape0 -->\n",
       "<g id=\"node7\" class=\"node\">\n",
       "<title>reshape0</title>\n",
       "<polygon fill=\"#fdb462\" stroke=\"black\" points=\"262,-340 168,-340 168,-282 262,-282 262,-340\"/>\n",
       "<text text-anchor=\"middle\" x=\"215\" y=\"-307.3\" font-family=\"Times,serif\" font-size=\"14.00\">reshape0</text>\n",
       "</g>\n",
       "<!-- reshape0&#45;&gt;_plus1 -->\n",
       "<g id=\"edge6\" class=\"edge\">\n",
       "<title>reshape0&#45;&gt;_plus1</title>\n",
       "<path fill=\"none\" stroke=\"black\" d=\"M215,-271.74C215,-263.2 215,-254.3 215,-246.25\"/>\n",
       "<polygon fill=\"black\" stroke=\"black\" points=\"215,-281.9 210.5,-271.9 215,-276.9 215,-271.9 215,-271.9 215,-271.9 215,-276.9 219.5,-271.9 215,-281.9 215,-281.9\"/>\n",
       "</g>\n",
       "</g>\n",
       "</svg>\n"
      ],
      "text/plain": [
       "<graphviz.dot.Digraph at 0x7ff2398212b0>"
      ]
     },
     "execution_count": 25,
     "metadata": {},
     "output_type": "execute_result"
    }
   ],
   "source": [
    "reshape= mx.sym.reshape(dot+zt, shape=(1,4))\n",
    "\n",
    "mx.viz.plot_network (symbol=reshape)"
   ]
  },
  {
   "cell_type": "code",
   "execution_count": 26,
   "metadata": {},
   "outputs": [
    {
     "data": {
      "image/svg+xml": [
       "<?xml version=\"1.0\" encoding=\"UTF-8\" standalone=\"no\"?>\n",
       "<!DOCTYPE svg PUBLIC \"-//W3C//DTD SVG 1.1//EN\"\n",
       " \"http://www.w3.org/Graphics/SVG/1.1/DTD/svg11.dtd\">\n",
       "<!-- Generated by graphviz version 3.0.0 (20220226.1711)\n",
       " -->\n",
       "<!-- Title: plot Pages: 1 -->\n",
       "<svg width=\"214pt\" height=\"160pt\"\n",
       " viewBox=\"0.00 0.00 214.00 160.00\" xmlns=\"http://www.w3.org/2000/svg\" xmlns:xlink=\"http://www.w3.org/1999/xlink\">\n",
       "<g id=\"graph0\" class=\"graph\" transform=\"scale(1 1) rotate(0) translate(4 156)\">\n",
       "<title>plot</title>\n",
       "<polygon fill=\"white\" stroke=\"transparent\" points=\"-4,4 -4,-156 210,-156 210,4 -4,4\"/>\n",
       "<!-- X -->\n",
       "<g id=\"node1\" class=\"node\">\n",
       "<title>X</title>\n",
       "<ellipse fill=\"#8dd3c7\" stroke=\"black\" cx=\"47\" cy=\"-29\" rx=\"47\" ry=\"29\"/>\n",
       "<text text-anchor=\"middle\" x=\"47\" y=\"-25.3\" font-family=\"Times,serif\" font-size=\"14.00\">X</text>\n",
       "</g>\n",
       "<!-- Y -->\n",
       "<g id=\"node2\" class=\"node\">\n",
       "<title>Y</title>\n",
       "<ellipse fill=\"#8dd3c7\" stroke=\"black\" cx=\"159\" cy=\"-29\" rx=\"47\" ry=\"29\"/>\n",
       "<text text-anchor=\"middle\" x=\"159\" y=\"-25.3\" font-family=\"Times,serif\" font-size=\"14.00\">Y</text>\n",
       "</g>\n",
       "<!-- _power0 -->\n",
       "<g id=\"node3\" class=\"node\">\n",
       "<title>_power0</title>\n",
       "<polygon fill=\"#fccde5\" stroke=\"black\" points=\"150,-152 56,-152 56,-94 150,-94 150,-152\"/>\n",
       "<text text-anchor=\"middle\" x=\"103\" y=\"-119.3\" font-family=\"Times,serif\" font-size=\"14.00\">_power0</text>\n",
       "</g>\n",
       "<!-- _power0&#45;&gt;X -->\n",
       "<g id=\"edge1\" class=\"edge\">\n",
       "<title>_power0&#45;&gt;X</title>\n",
       "<path fill=\"none\" stroke=\"black\" d=\"M80.62,-85.24C74.74,-75.58 68.52,-65.35 63.05,-56.36\"/>\n",
       "<polygon fill=\"black\" stroke=\"black\" points=\"85.89,-93.9 76.85,-87.69 83.29,-89.63 80.69,-85.36 80.69,-85.36 80.69,-85.36 83.29,-89.63 84.54,-83.02 85.89,-93.9 85.89,-93.9\"/>\n",
       "</g>\n",
       "<!-- _power0&#45;&gt;Y -->\n",
       "<g id=\"edge2\" class=\"edge\">\n",
       "<title>_power0&#45;&gt;Y</title>\n",
       "<path fill=\"none\" stroke=\"black\" d=\"M125.38,-85.24C131.26,-75.58 137.48,-65.35 142.95,-56.36\"/>\n",
       "<polygon fill=\"black\" stroke=\"black\" points=\"120.11,-93.9 121.46,-83.02 122.71,-89.63 125.31,-85.36 125.31,-85.36 125.31,-85.36 122.71,-89.63 129.15,-87.69 120.11,-93.9 120.11,-93.9\"/>\n",
       "</g>\n",
       "</g>\n",
       "</svg>\n"
      ],
      "text/plain": [
       "<graphviz.dot.Digraph at 0x7ff23c0f12b0>"
      ]
     },
     "execution_count": 26,
     "metadata": {},
     "output_type": "execute_result"
    }
   ],
   "source": [
    "f=x.__pow__(y)\n",
    "mx.viz.plot_network (symbol=f)"
   ]
  },
  {
   "cell_type": "markdown",
   "metadata": {},
   "source": [
    "Now let's bind data to this computation graph. First we create two nd array and we bind them to the graph"
   ]
  },
  {
   "cell_type": "code",
   "execution_count": 27,
   "metadata": {},
   "outputs": [],
   "source": [
    "x_data=mx.nd.array([1,1], dtype=np.float32 )\n",
    "y_data=mx.nd.array([2,2], dtype=np.float32 )"
   ]
  },
  {
   "cell_type": "code",
   "execution_count": 28,
   "metadata": {},
   "outputs": [],
   "source": [
    "executor=dot.bind(ctx=mx.cpu(), args={'X' : x_data , 'Y' : y_data})"
   ]
  },
  {
   "cell_type": "markdown",
   "metadata": {},
   "source": [
    "Now that we bind the data, we need to execute the variable that holds the binding:"
   ]
  },
  {
   "cell_type": "code",
   "execution_count": 29,
   "metadata": {},
   "outputs": [],
   "source": [
    "output=executor.forward()"
   ]
  },
  {
   "cell_type": "code",
   "execution_count": 30,
   "metadata": {},
   "outputs": [
    {
     "data": {
      "text/plain": [
       "[\n",
       " [4.]\n",
       " <NDArray 1 @cpu(0)>]"
      ]
     },
     "execution_count": 30,
     "metadata": {},
     "output_type": "execute_result"
    }
   ],
   "source": [
    "output"
   ]
  },
  {
   "cell_type": "code",
   "execution_count": 31,
   "metadata": {},
   "outputs": [],
   "source": [
    "executor=f.bind(ctx=mx.cpu(), args={'X' : mx.nd.array([2]) , 'Y' : mx.nd.array([3])})"
   ]
  },
  {
   "cell_type": "code",
   "execution_count": 32,
   "metadata": {},
   "outputs": [],
   "source": [
    "output=executor.forward()"
   ]
  },
  {
   "cell_type": "code",
   "execution_count": 33,
   "metadata": {},
   "outputs": [
    {
     "data": {
      "text/plain": [
       "[\n",
       " [8.]\n",
       " <NDArray 1 @cpu(0)>]"
      ]
     },
     "execution_count": 33,
     "metadata": {},
     "output_type": "execute_result"
    }
   ],
   "source": [
    "output"
   ]
  },
  {
   "cell_type": "markdown",
   "metadata": {},
   "source": [
    "--------------------"
   ]
  },
  {
   "cell_type": "markdown",
   "metadata": {},
   "source": [
    "### Data Iterators"
   ]
  },
  {
   "cell_type": "markdown",
   "metadata": {},
   "source": [
    "In NNs we have lots of data and sometimes we cannot fit them all in the memory. We have a way to load them in batches in mxnet. That is called <b> data iterators</b>."
   ]
  },
  {
   "cell_type": "code",
   "execution_count": 34,
   "metadata": {},
   "outputs": [],
   "source": [
    "import mxnet as mx\n",
    "from mxnet import ndarray as nd\n",
    "import numpy as np"
   ]
  },
  {
   "cell_type": "code",
   "execution_count": 35,
   "metadata": {},
   "outputs": [
    {
     "name": "stdout",
     "output_type": "stream",
     "text": [
      "[[0.69893573 0.27286447 0.00636046]\n",
      " [0.2266227  0.10979496 0.78410686]\n",
      " [0.29037437 0.19535547 0.84062948]\n",
      " [0.7744229  0.70740907 0.17973986]\n",
      " [0.7058874  0.06338648 0.99296362]\n",
      " [0.96559656 0.8373479  0.21506172]\n",
      " [0.0408786  0.95114976 0.41025171]\n",
      " [0.85026764 0.07096796 0.72334988]\n",
      " [0.47647814 0.12304065 0.37314949]\n",
      " [0.14254549 0.97465679 0.05358129]\n",
      " [0.0243768  0.86400479 0.42038796]\n",
      " [0.37580911 0.04649166 0.86592966]\n",
      " [0.65684243 0.46030775 0.16496258]\n",
      " [0.98897025 0.78102005 0.87009612]\n",
      " [0.14732302 0.12388051 0.32655982]\n",
      " [0.14830435 0.18320655 0.39670216]\n",
      " [0.22883493 0.25413341 0.82465278]\n",
      " [0.00265841 0.62524789 0.9298937 ]\n",
      " [0.46868302 0.6941619  0.36806866]\n",
      " [0.83131776 0.6336289  0.14560788]\n",
      " [0.09771494 0.55607379 0.89527803]\n",
      " [0.71289123 0.14029984 0.64847919]\n",
      " [0.71819467 0.93116798 0.21810743]\n",
      " [0.56242211 0.53776291 0.79499396]\n",
      " [0.13184166 0.68523655 0.84586017]\n",
      " [0.06136608 0.9673616  0.00973287]\n",
      " [0.56871521 0.43007567 0.50827214]\n",
      " [0.78896484 0.84020632 0.78531514]\n",
      " [0.88763242 0.61660292 0.76625785]\n",
      " [0.50875084 0.99685945 0.23642014]\n",
      " [0.14394981 0.97865857 0.65193417]\n",
      " [0.13859045 0.59490085 0.0157658 ]\n",
      " [0.75266448 0.58559969 0.96569483]\n",
      " [0.83974074 0.06119312 0.82346175]\n",
      " [0.1460931  0.45637078 0.44405654]\n",
      " [0.60868693 0.11696218 0.44350115]\n",
      " [0.61183019 0.28727786 0.94511787]\n",
      " [0.92160019 0.19972702 0.79670019]\n",
      " [0.45809698 0.98699301 0.97262516]\n",
      " [0.76692118 0.47550581 0.99309372]\n",
      " [0.09263982 0.38707047 0.85221977]\n",
      " [0.5111847  0.4927017  0.36444063]\n",
      " [0.93659567 0.4254029  0.10942116]\n",
      " [0.85827256 0.7617216  0.91451226]\n",
      " [0.98226033 0.27681401 0.98793691]\n",
      " [0.7412801  0.34819356 0.6782214 ]\n",
      " [0.11782442 0.50684857 0.1294666 ]\n",
      " [0.06330328 0.51473638 0.09566998]\n",
      " [0.84304636 0.9389946  0.36287247]\n",
      " [0.27320978 0.37301775 0.56757349]\n",
      " [0.48616252 0.39970136 0.43916793]\n",
      " [0.92899172 0.96235411 0.39902361]\n",
      " [0.68111045 0.88924693 0.12420753]\n",
      " [0.46233872 0.43386972 0.39398485]\n",
      " [0.71842115 0.63036948 0.29431246]\n",
      " [0.3812554  0.20677674 0.00494413]\n",
      " [0.59662758 0.02202924 0.75374435]\n",
      " [0.90949852 0.98726724 0.00183716]\n",
      " [0.34300971 0.7065404  0.25856575]\n",
      " [0.92001322 0.53567563 0.40084423]\n",
      " [0.89230823 0.37912265 0.18890019]\n",
      " [0.78179169 0.78405679 0.33464791]\n",
      " [0.8327658  0.6950957  0.88815635]\n",
      " [0.13661037 0.4422351  0.6955672 ]\n",
      " [0.17352641 0.67915489 0.87251078]\n",
      " [0.89737494 0.99153239 0.35396865]\n",
      " [0.35314751 0.67899147 0.134352  ]\n",
      " [0.83883848 0.61604591 0.7617041 ]\n",
      " [0.42743275 0.70330974 0.22002297]\n",
      " [0.70210746 0.80558094 0.20631834]\n",
      " [0.04398334 0.47712427 0.32916263]\n",
      " [0.03097499 0.9513669  0.67469668]\n",
      " [0.07295213 0.60547749 0.80553629]\n",
      " [0.3755652  0.26790176 0.4262795 ]\n",
      " [0.35186025 0.50882818 0.98671944]\n",
      " [0.41148441 0.8627734  0.75927454]\n",
      " [0.52210036 0.64091952 0.41380755]\n",
      " [0.4236183  0.7762768  0.99162275]\n",
      " [0.70346744 0.94373824 0.67965541]\n",
      " [0.78426591 0.15323215 0.20033322]\n",
      " [0.12047308 0.32332667 0.95220206]\n",
      " [0.59187633 0.42963297 0.63760509]\n",
      " [0.12464557 0.08772997 0.74560266]\n",
      " [0.52458218 0.95951252 0.59582677]\n",
      " [0.9824259  0.45143666 0.9059397 ]\n",
      " [0.42813108 0.50976391 0.43838126]\n",
      " [0.05112475 0.94562932 0.82069813]\n",
      " [0.04690487 0.29008104 0.93769707]\n",
      " [0.1144158  0.73740771 0.59158211]\n",
      " [0.29544187 0.16824937 0.67153193]\n",
      " [0.02522313 0.37689921 0.67202426]\n",
      " [0.76585935 0.32392114 0.88494929]\n",
      " [0.10318041 0.39258169 0.38805886]\n",
      " [0.14582501 0.66490488 0.11113723]\n",
      " [0.57761688 0.33509384 0.35307876]\n",
      " [0.65494259 0.52433627 0.53128768]\n",
      " [0.4056841  0.80854167 0.59569439]\n",
      " [0.76736079 0.29057046 0.67788471]\n",
      " [0.12330375 0.47814371 0.81766206]\n",
      " [0.26060585 0.44229328 0.15473073]]\n"
     ]
    }
   ],
   "source": [
    "data = np.random.rand(100,3)\n",
    "print (data)\n",
    "\n",
    "\n"
   ]
  },
  {
   "cell_type": "code",
   "execution_count": 36,
   "metadata": {},
   "outputs": [
    {
     "name": "stdout",
     "output_type": "stream",
     "text": [
      "[6 0 4 2 3 8 2 1 8 5 5 8 7 0 6 1 6 4 9 8 8 1 8 7 9 6 2 4 6 5 6 2 7 7 9 8 1\n",
      " 6 1 2 2 2 7 6 4 4 1 1 2 5 8 6 6 7 6 2 1 2 2 9 6 1 7 7 4 6 4 9 7 1 5 1 4 7\n",
      " 4 4 8 8 0 3 8 1 6 0 9 6 6 4 3 1 8 0 2 5 3 7 9 5 3 8]\n"
     ]
    }
   ],
   "source": [
    "label = np.random.randint(0, 10, (100,))\n",
    "print(label)"
   ]
  },
  {
   "cell_type": "code",
   "execution_count": 37,
   "metadata": {},
   "outputs": [
    {
     "name": "stdout",
     "output_type": "stream",
     "text": [
      "[[\n",
      "[[0.69893575 0.27286446 0.00636045]\n",
      " [0.2266227  0.10979497 0.78410685]\n",
      " [0.29037437 0.19535547 0.84062946]\n",
      " [0.7744229  0.7074091  0.17973986]\n",
      " [0.7058874  0.06338648 0.9929636 ]\n",
      " [0.96559656 0.8373479  0.21506172]\n",
      " [0.0408786  0.95114976 0.4102517 ]\n",
      " [0.85026765 0.07096796 0.72334987]\n",
      " [0.47647813 0.12304065 0.37314948]\n",
      " [0.14254549 0.9746568  0.05358129]\n",
      " [0.0243768  0.8640048  0.42038795]\n",
      " [0.3758091  0.04649166 0.86592966]\n",
      " [0.6568424  0.46030775 0.16496257]\n",
      " [0.9889702  0.78102005 0.87009615]\n",
      " [0.14732301 0.12388051 0.3265598 ]\n",
      " [0.14830434 0.18320656 0.39670217]\n",
      " [0.22883493 0.2541334  0.8246528 ]\n",
      " [0.00265841 0.6252479  0.9298937 ]\n",
      " [0.468683   0.6941619  0.36806867]\n",
      " [0.8313178  0.6336289  0.14560787]\n",
      " [0.09771494 0.5560738  0.89527804]\n",
      " [0.7128912  0.14029984 0.64847916]\n",
      " [0.71819466 0.93116796 0.21810743]\n",
      " [0.5624221  0.5377629  0.79499394]\n",
      " [0.13184166 0.6852366  0.8458602 ]\n",
      " [0.06136608 0.96736157 0.00973288]\n",
      " [0.5687152  0.43007568 0.5082721 ]\n",
      " [0.7889648  0.8402063  0.78531516]\n",
      " [0.8876324  0.6166029  0.7662578 ]\n",
      " [0.50875086 0.99685943 0.23642014]]\n",
      "<NDArray 30x3 @cpu(0)>], [\n",
      "[6. 0. 4. 2. 3. 8. 2. 1. 8. 5. 5. 8. 7. 0. 6. 1. 6. 4. 9. 8. 8. 1. 8. 7.\n",
      " 9. 6. 2. 4. 6. 5.]\n",
      "<NDArray 30 @cpu(0)>], 0]\n",
      "[[\n",
      "[[0.1439498  0.97865856 0.65193415]\n",
      " [0.13859046 0.59490085 0.0157658 ]\n",
      " [0.7526645  0.58559966 0.96569484]\n",
      " [0.83974075 0.06119312 0.8234618 ]\n",
      " [0.1460931  0.45637077 0.44405654]\n",
      " [0.6086869  0.11696218 0.44350114]\n",
      " [0.6118302  0.28727785 0.9451179 ]\n",
      " [0.92160016 0.19972701 0.7967002 ]\n",
      " [0.45809698 0.986993   0.97262514]\n",
      " [0.76692116 0.4755058  0.9930937 ]\n",
      " [0.09263982 0.38707048 0.85221976]\n",
      " [0.5111847  0.4927017  0.36444062]\n",
      " [0.9365957  0.4254029  0.10942116]\n",
      " [0.85827255 0.7617216  0.9145123 ]\n",
      " [0.98226035 0.276814   0.9879369 ]\n",
      " [0.7412801  0.34819356 0.6782214 ]\n",
      " [0.11782442 0.5068486  0.12946661]\n",
      " [0.06330328 0.51473635 0.09566998]\n",
      " [0.84304637 0.9389946  0.36287248]\n",
      " [0.27320978 0.37301776 0.5675735 ]\n",
      " [0.4861625  0.39970136 0.43916792]\n",
      " [0.92899173 0.9623541  0.3990236 ]\n",
      " [0.68111044 0.88924694 0.12420753]\n",
      " [0.46233872 0.43386972 0.39398485]\n",
      " [0.71842116 0.6303695  0.29431248]\n",
      " [0.3812554  0.20677674 0.00494413]\n",
      " [0.5966276  0.02202924 0.75374436]\n",
      " [0.9094985  0.98726726 0.00183716]\n",
      " [0.3430097  0.7065404  0.25856575]\n",
      " [0.92001325 0.53567564 0.40084425]]\n",
      "<NDArray 30x3 @cpu(0)>], [\n",
      "[6. 2. 7. 7. 9. 8. 1. 6. 1. 2. 2. 2. 7. 6. 4. 4. 1. 1. 2. 5. 8. 6. 6. 7.\n",
      " 6. 2. 1. 2. 2. 9.]\n",
      "<NDArray 30 @cpu(0)>], 0]\n",
      "[[\n",
      "[[0.89230824 0.37912264 0.18890019]\n",
      " [0.7817917  0.7840568  0.33464792]\n",
      " [0.8327658  0.6950957  0.88815635]\n",
      " [0.13661036 0.4422351  0.6955672 ]\n",
      " [0.1735264  0.6791549  0.8725108 ]\n",
      " [0.8973749  0.9915324  0.35396865]\n",
      " [0.3531475  0.6789915  0.134352  ]\n",
      " [0.83883846 0.6160459  0.7617041 ]\n",
      " [0.42743275 0.7033097  0.22002298]\n",
      " [0.7021074  0.8055809  0.20631835]\n",
      " [0.04398334 0.47712427 0.32916263]\n",
      " [0.03097499 0.9513669  0.6746967 ]\n",
      " [0.07295213 0.6054775  0.80553627]\n",
      " [0.3755652  0.26790175 0.42627952]\n",
      " [0.35186026 0.50882816 0.9867194 ]\n",
      " [0.41148442 0.8627734  0.75927454]\n",
      " [0.5221004  0.6409195  0.41380754]\n",
      " [0.42361832 0.7762768  0.99162275]\n",
      " [0.7034674  0.9437382  0.67965543]\n",
      " [0.7842659  0.15323214 0.20033322]\n",
      " [0.12047309 0.32332668 0.9522021 ]\n",
      " [0.5918763  0.42963296 0.6376051 ]\n",
      " [0.12464558 0.08772997 0.74560267]\n",
      " [0.5245822  0.95951253 0.59582675]\n",
      " [0.9824259  0.45143667 0.9059397 ]\n",
      " [0.42813107 0.5097639  0.43838125]\n",
      " [0.05112475 0.9456293  0.82069814]\n",
      " [0.04690487 0.29008105 0.93769705]\n",
      " [0.11441579 0.7374077  0.5915821 ]\n",
      " [0.29544187 0.16824937 0.6715319 ]]\n",
      "<NDArray 30x3 @cpu(0)>], [\n",
      "[6. 1. 7. 7. 4. 6. 4. 9. 7. 1. 5. 1. 4. 7. 4. 4. 8. 8. 0. 3. 8. 1. 6. 0.\n",
      " 9. 6. 6. 4. 3. 1.]\n",
      "<NDArray 30 @cpu(0)>], 0]\n",
      "[[\n",
      "[[0.02522313 0.3768992  0.67202425]\n",
      " [0.76585937 0.32392114 0.88494927]\n",
      " [0.10318041 0.3925817  0.38805887]\n",
      " [0.14582501 0.6649049  0.11113723]\n",
      " [0.5776169  0.33509383 0.35307875]\n",
      " [0.6549426  0.5243363  0.53128767]\n",
      " [0.40568408 0.80854166 0.59569436]\n",
      " [0.7673608  0.29057047 0.6778847 ]\n",
      " [0.12330375 0.47814372 0.81766206]\n",
      " [0.26060584 0.4422933  0.15473072]\n",
      " [0.69893575 0.27286446 0.00636045]\n",
      " [0.2266227  0.10979497 0.78410685]\n",
      " [0.29037437 0.19535547 0.84062946]\n",
      " [0.7744229  0.7074091  0.17973986]\n",
      " [0.7058874  0.06338648 0.9929636 ]\n",
      " [0.96559656 0.8373479  0.21506172]\n",
      " [0.0408786  0.95114976 0.4102517 ]\n",
      " [0.85026765 0.07096796 0.72334987]\n",
      " [0.47647813 0.12304065 0.37314948]\n",
      " [0.14254549 0.9746568  0.05358129]\n",
      " [0.0243768  0.8640048  0.42038795]\n",
      " [0.3758091  0.04649166 0.86592966]\n",
      " [0.6568424  0.46030775 0.16496257]\n",
      " [0.9889702  0.78102005 0.87009615]\n",
      " [0.14732301 0.12388051 0.3265598 ]\n",
      " [0.14830434 0.18320656 0.39670217]\n",
      " [0.22883493 0.2541334  0.8246528 ]\n",
      " [0.00265841 0.6252479  0.9298937 ]\n",
      " [0.468683   0.6941619  0.36806867]\n",
      " [0.8313178  0.6336289  0.14560787]]\n",
      "<NDArray 30x3 @cpu(0)>], [\n",
      "[8. 0. 2. 5. 3. 7. 9. 5. 3. 8. 6. 0. 4. 2. 3. 8. 2. 1. 8. 5. 5. 8. 7. 0.\n",
      " 6. 1. 6. 4. 9. 8.]\n",
      "<NDArray 30 @cpu(0)>], 20]\n"
     ]
    }
   ],
   "source": [
    "data_iter = mx.io.NDArrayIter(data=data, label=label, batch_size=30)\n",
    "for batch in data_iter:\n",
    "    print([batch.data, batch.label, batch.pad])"
   ]
  },
  {
   "cell_type": "markdown",
   "metadata": {},
   "source": [
    "--------------------- "
   ]
  },
  {
   "cell_type": "markdown",
   "metadata": {},
   "source": [
    "### Modules API\n",
    "In this section we want to talk about mxnet modules. We use the example in this URL:\n",
    "https://julsimon.medium.com/an-introduction-to-the-mxnet-api-part-3-1803112ba3a8\n",
    "\n",
    "Module wraps a <b>Symbol</b> and one or more <b>Executors</b>. It has both a high level and intermediate level API. Imagine:<br>\n",
    "1) Our data set is composed of 1000 data samples.<br>\n",
    "2) Each sample has 100 features.<br>\n",
    "3) A feature is represented by a float value between 0 and 1.<br>\n",
    "4) Samples are split in 10 categories. The purpose of the network will be to predict the correct category for a given sample.<br>\n",
    "5) We’ll use 800 samples for training and 200 samples for validation.<br>\n",
    "6) We’ll use a batch size of 10 for training and validation.<br>"
   ]
  },
  {
   "cell_type": "code",
   "execution_count": 38,
   "metadata": {},
   "outputs": [],
   "source": [
    "import mxnet as mx\n",
    "import numpy as np\n",
    "import logging\n",
    "\n",
    "logging.basicConfig(level=logging.INFO)\n",
    "\n",
    "sample_count = 1000\n",
    "train_count = 800\n",
    "valid_count = sample_count - train_count\n",
    "feature_count = 100\n",
    "category_count = 10\n",
    "batch=10\n",
    "#mod = mx.mod.Module(out)"
   ]
  },
  {
   "cell_type": "markdown",
   "metadata": {},
   "source": [
    "Let’s use a uniform distribution to generate the 1000 samples. They are stored in an NDArray named ‘X’: 1000 lines, 100 columns."
   ]
  },
  {
   "cell_type": "code",
   "execution_count": 39,
   "metadata": {},
   "outputs": [],
   "source": [
    "X = mx.nd.uniform(low=0, high=1, shape=(sample_count,feature_count))"
   ]
  },
  {
   "cell_type": "code",
   "execution_count": 40,
   "metadata": {},
   "outputs": [
    {
     "data": {
      "text/plain": [
       "\n",
       "[[5.44883192e-01 8.47251713e-01 4.23654795e-01 ... 6.34274065e-01\n",
       "  4.17021990e-01 9.97184813e-01]\n",
       " [7.20324516e-01 9.32557344e-01 1.14381080e-04 ... 1.85082078e-01\n",
       "  2.59262286e-02 9.31540847e-01]\n",
       " [5.49662471e-01 9.47730601e-01 4.35322404e-01 ... 8.39949071e-01\n",
       "  2.90904731e-01 1.21328577e-01]\n",
       " ...\n",
       " [8.18738341e-02 2.44539641e-02 8.53825390e-01 ... 6.76115692e-01\n",
       "  1.75401583e-01 9.24937129e-01]\n",
       " [3.79189700e-01 8.49168241e-01 7.75433898e-01 ... 4.59736548e-02\n",
       "  5.40907323e-01 8.03755522e-01]\n",
       " [5.59466481e-01 9.35443759e-01 5.55880964e-01 ... 1.00363605e-01\n",
       "  9.17030871e-01 4.12768424e-01]]\n",
       "<NDArray 1000x100 @cpu(0)>"
      ]
     },
     "execution_count": 40,
     "metadata": {},
     "output_type": "execute_result"
    }
   ],
   "source": [
    "X"
   ]
  },
  {
   "cell_type": "markdown",
   "metadata": {},
   "source": [
    "Now we want to generate the labels (Y). The Y are the categories for these 1000 samples and they are represented as integers in the 0–9 range. They are randomly generated and stored in an NDArray named ‘Y’."
   ]
  },
  {
   "cell_type": "code",
   "execution_count": 41,
   "metadata": {},
   "outputs": [],
   "source": [
    "Y = mx.nd.empty((sample_count,))\n",
    "for i in range(0,sample_count-1):\n",
    "  Y[i] = np.random.randint(0,category_count)"
   ]
  },
  {
   "cell_type": "code",
   "execution_count": 42,
   "metadata": {},
   "outputs": [
    {
     "data": {
      "text/plain": [
       "\n",
       "[3.0000000e+00 0.0000000e+00 9.0000000e+00 8.0000000e+00 8.0000000e+00\n",
       " 6.0000000e+00 7.0000000e+00 9.0000000e+00 4.0000000e+00 9.0000000e+00\n",
       " 1.0000000e+00 4.0000000e+00 5.0000000e+00 3.0000000e+00 9.0000000e+00\n",
       " 6.0000000e+00 2.0000000e+00 6.0000000e+00 1.0000000e+00 6.0000000e+00\n",
       " 8.0000000e+00 6.0000000e+00 5.0000000e+00 8.0000000e+00 0.0000000e+00\n",
       " 4.0000000e+00 0.0000000e+00 4.0000000e+00 5.0000000e+00 2.0000000e+00\n",
       " 8.0000000e+00 7.0000000e+00 4.0000000e+00 3.0000000e+00 3.0000000e+00\n",
       " 0.0000000e+00 3.0000000e+00 1.0000000e+00 1.0000000e+00 9.0000000e+00\n",
       " 2.0000000e+00 9.0000000e+00 0.0000000e+00 3.0000000e+00 7.0000000e+00\n",
       " 5.0000000e+00 2.0000000e+00 2.0000000e+00 8.0000000e+00 8.0000000e+00\n",
       " 9.0000000e+00 7.0000000e+00 7.0000000e+00 1.0000000e+00 9.0000000e+00\n",
       " 9.0000000e+00 8.0000000e+00 9.0000000e+00 6.0000000e+00 7.0000000e+00\n",
       " 5.0000000e+00 8.0000000e+00 7.0000000e+00 9.0000000e+00 5.0000000e+00\n",
       " 6.0000000e+00 4.0000000e+00 2.0000000e+00 7.0000000e+00 7.0000000e+00\n",
       " 8.0000000e+00 3.0000000e+00 9.0000000e+00 5.0000000e+00 5.0000000e+00\n",
       " 1.0000000e+00 8.0000000e+00 5.0000000e+00 7.0000000e+00 5.0000000e+00\n",
       " 5.0000000e+00 5.0000000e+00 9.0000000e+00 8.0000000e+00 8.0000000e+00\n",
       " 1.0000000e+00 2.0000000e+00 9.0000000e+00 5.0000000e+00 5.0000000e+00\n",
       " 5.0000000e+00 3.0000000e+00 7.0000000e+00 6.0000000e+00 1.0000000e+00\n",
       " 3.0000000e+00 3.0000000e+00 4.0000000e+00 9.0000000e+00 3.0000000e+00\n",
       " 6.0000000e+00 7.0000000e+00 6.0000000e+00 3.0000000e+00 6.0000000e+00\n",
       " 0.0000000e+00 6.0000000e+00 9.0000000e+00 6.0000000e+00 9.0000000e+00\n",
       " 7.0000000e+00 3.0000000e+00 0.0000000e+00 1.0000000e+00 4.0000000e+00\n",
       " 5.0000000e+00 1.0000000e+00 6.0000000e+00 8.0000000e+00 3.0000000e+00\n",
       " 3.0000000e+00 8.0000000e+00 8.0000000e+00 1.0000000e+00 1.0000000e+00\n",
       " 1.0000000e+00 2.0000000e+00 3.0000000e+00 7.0000000e+00 3.0000000e+00\n",
       " 3.0000000e+00 6.0000000e+00 3.0000000e+00 1.0000000e+00 4.0000000e+00\n",
       " 4.0000000e+00 4.0000000e+00 4.0000000e+00 4.0000000e+00 9.0000000e+00\n",
       " 9.0000000e+00 8.0000000e+00 3.0000000e+00 8.0000000e+00 6.0000000e+00\n",
       " 6.0000000e+00 1.0000000e+00 4.0000000e+00 2.0000000e+00 3.0000000e+00\n",
       " 6.0000000e+00 4.0000000e+00 2.0000000e+00 5.0000000e+00 0.0000000e+00\n",
       " 9.0000000e+00 1.0000000e+00 5.0000000e+00 0.0000000e+00 5.0000000e+00\n",
       " 3.0000000e+00 8.0000000e+00 0.0000000e+00 9.0000000e+00 0.0000000e+00\n",
       " 9.0000000e+00 9.0000000e+00 9.0000000e+00 9.0000000e+00 7.0000000e+00\n",
       " 1.0000000e+00 7.0000000e+00 8.0000000e+00 9.0000000e+00 3.0000000e+00\n",
       " 4.0000000e+00 8.0000000e+00 2.0000000e+00 8.0000000e+00 2.0000000e+00\n",
       " 5.0000000e+00 5.0000000e+00 7.0000000e+00 0.0000000e+00 5.0000000e+00\n",
       " 5.0000000e+00 5.0000000e+00 7.0000000e+00 2.0000000e+00 8.0000000e+00\n",
       " 4.0000000e+00 0.0000000e+00 8.0000000e+00 2.0000000e+00 7.0000000e+00\n",
       " 0.0000000e+00 0.0000000e+00 3.0000000e+00 2.0000000e+00 6.0000000e+00\n",
       " 3.0000000e+00 7.0000000e+00 2.0000000e+00 2.0000000e+00 7.0000000e+00\n",
       " 0.0000000e+00 5.0000000e+00 9.0000000e+00 2.0000000e+00 1.0000000e+00\n",
       " 2.0000000e+00 9.0000000e+00 0.0000000e+00 2.0000000e+00 6.0000000e+00\n",
       " 7.0000000e+00 8.0000000e+00 8.0000000e+00 8.0000000e+00 8.0000000e+00\n",
       " 6.0000000e+00 8.0000000e+00 9.0000000e+00 0.0000000e+00 6.0000000e+00\n",
       " 7.0000000e+00 8.0000000e+00 3.0000000e+00 9.0000000e+00 8.0000000e+00\n",
       " 3.0000000e+00 8.0000000e+00 4.0000000e+00 4.0000000e+00 0.0000000e+00\n",
       " 1.0000000e+00 7.0000000e+00 2.0000000e+00 8.0000000e+00 9.0000000e+00\n",
       " 6.0000000e+00 5.0000000e+00 1.0000000e+00 6.0000000e+00 2.0000000e+00\n",
       " 2.0000000e+00 5.0000000e+00 2.0000000e+00 9.0000000e+00 8.0000000e+00\n",
       " 6.0000000e+00 9.0000000e+00 8.0000000e+00 7.0000000e+00 2.0000000e+00\n",
       " 2.0000000e+00 9.0000000e+00 3.0000000e+00 9.0000000e+00 3.0000000e+00\n",
       " 2.0000000e+00 0.0000000e+00 0.0000000e+00 6.0000000e+00 7.0000000e+00\n",
       " 5.0000000e+00 6.0000000e+00 0.0000000e+00 3.0000000e+00 5.0000000e+00\n",
       " 7.0000000e+00 0.0000000e+00 7.0000000e+00 6.0000000e+00 5.0000000e+00\n",
       " 3.0000000e+00 4.0000000e+00 1.0000000e+00 9.0000000e+00 5.0000000e+00\n",
       " 5.0000000e+00 5.0000000e+00 9.0000000e+00 8.0000000e+00 7.0000000e+00\n",
       " 2.0000000e+00 4.0000000e+00 7.0000000e+00 0.0000000e+00 4.0000000e+00\n",
       " 8.0000000e+00 3.0000000e+00 3.0000000e+00 4.0000000e+00 6.0000000e+00\n",
       " 8.0000000e+00 0.0000000e+00 5.0000000e+00 4.0000000e+00 4.0000000e+00\n",
       " 8.0000000e+00 1.0000000e+00 5.0000000e+00 8.0000000e+00 4.0000000e+00\n",
       " 1.0000000e+00 8.0000000e+00 1.0000000e+00 7.0000000e+00 7.0000000e+00\n",
       " 4.0000000e+00 9.0000000e+00 2.0000000e+00 7.0000000e+00 7.0000000e+00\n",
       " 3.0000000e+00 5.0000000e+00 3.0000000e+00 7.0000000e+00 2.0000000e+00\n",
       " 7.0000000e+00 2.0000000e+00 0.0000000e+00 3.0000000e+00 1.0000000e+00\n",
       " 5.0000000e+00 0.0000000e+00 5.0000000e+00 1.0000000e+00 9.0000000e+00\n",
       " 0.0000000e+00 3.0000000e+00 7.0000000e+00 2.0000000e+00 3.0000000e+00\n",
       " 3.0000000e+00 8.0000000e+00 8.0000000e+00 9.0000000e+00 8.0000000e+00\n",
       " 0.0000000e+00 5.0000000e+00 5.0000000e+00 4.0000000e+00 5.0000000e+00\n",
       " 6.0000000e+00 5.0000000e+00 7.0000000e+00 2.0000000e+00 8.0000000e+00\n",
       " 7.0000000e+00 2.0000000e+00 0.0000000e+00 9.0000000e+00 9.0000000e+00\n",
       " 5.0000000e+00 7.0000000e+00 7.0000000e+00 2.0000000e+00 5.0000000e+00\n",
       " 4.0000000e+00 6.0000000e+00 6.0000000e+00 6.0000000e+00 7.0000000e+00\n",
       " 0.0000000e+00 4.0000000e+00 6.0000000e+00 1.0000000e+00 1.0000000e+00\n",
       " 2.0000000e+00 0.0000000e+00 1.0000000e+00 3.0000000e+00 2.0000000e+00\n",
       " 4.0000000e+00 7.0000000e+00 5.0000000e+00 7.0000000e+00 3.0000000e+00\n",
       " 2.0000000e+00 7.0000000e+00 1.0000000e+00 9.0000000e+00 2.0000000e+00\n",
       " 6.0000000e+00 2.0000000e+00 3.0000000e+00 2.0000000e+00 1.0000000e+00\n",
       " 9.0000000e+00 1.0000000e+00 3.0000000e+00 7.0000000e+00 8.0000000e+00\n",
       " 7.0000000e+00 0.0000000e+00 7.0000000e+00 3.0000000e+00 9.0000000e+00\n",
       " 2.0000000e+00 7.0000000e+00 4.0000000e+00 7.0000000e+00 7.0000000e+00\n",
       " 1.0000000e+00 2.0000000e+00 2.0000000e+00 9.0000000e+00 2.0000000e+00\n",
       " 1.0000000e+00 4.0000000e+00 9.0000000e+00 1.0000000e+00 2.0000000e+00\n",
       " 3.0000000e+00 7.0000000e+00 6.0000000e+00 9.0000000e+00 6.0000000e+00\n",
       " 1.0000000e+00 0.0000000e+00 8.0000000e+00 4.0000000e+00 5.0000000e+00\n",
       " 7.0000000e+00 1.0000000e+00 7.0000000e+00 0.0000000e+00 8.0000000e+00\n",
       " 4.0000000e+00 5.0000000e+00 0.0000000e+00 2.0000000e+00 3.0000000e+00\n",
       " 5.0000000e+00 2.0000000e+00 6.0000000e+00 6.0000000e+00 4.0000000e+00\n",
       " 6.0000000e+00 1.0000000e+00 4.0000000e+00 0.0000000e+00 6.0000000e+00\n",
       " 0.0000000e+00 2.0000000e+00 9.0000000e+00 6.0000000e+00 5.0000000e+00\n",
       " 8.0000000e+00 2.0000000e+00 1.0000000e+00 6.0000000e+00 2.0000000e+00\n",
       " 5.0000000e+00 6.0000000e+00 0.0000000e+00 2.0000000e+00 1.0000000e+00\n",
       " 1.0000000e+00 7.0000000e+00 7.0000000e+00 6.0000000e+00 9.0000000e+00\n",
       " 8.0000000e+00 8.0000000e+00 5.0000000e+00 8.0000000e+00 5.0000000e+00\n",
       " 3.0000000e+00 4.0000000e+00 0.0000000e+00 0.0000000e+00 1.0000000e+00\n",
       " 5.0000000e+00 6.0000000e+00 8.0000000e+00 6.0000000e+00 1.0000000e+00\n",
       " 7.0000000e+00 5.0000000e+00 1.0000000e+00 4.0000000e+00 0.0000000e+00\n",
       " 0.0000000e+00 9.0000000e+00 1.0000000e+00 1.0000000e+00 3.0000000e+00\n",
       " 7.0000000e+00 9.0000000e+00 8.0000000e+00 1.0000000e+00 0.0000000e+00\n",
       " 2.0000000e+00 0.0000000e+00 7.0000000e+00 6.0000000e+00 6.0000000e+00\n",
       " 4.0000000e+00 4.0000000e+00 8.0000000e+00 9.0000000e+00 9.0000000e+00\n",
       " 8.0000000e+00 6.0000000e+00 4.0000000e+00 8.0000000e+00 1.0000000e+00\n",
       " 7.0000000e+00 3.0000000e+00 2.0000000e+00 1.0000000e+00 4.0000000e+00\n",
       " 9.0000000e+00 9.0000000e+00 8.0000000e+00 4.0000000e+00 0.0000000e+00\n",
       " 0.0000000e+00 4.0000000e+00 4.0000000e+00 6.0000000e+00 9.0000000e+00\n",
       " 2.0000000e+00 8.0000000e+00 6.0000000e+00 8.0000000e+00 1.0000000e+00\n",
       " 1.0000000e+00 0.0000000e+00 1.0000000e+00 0.0000000e+00 5.0000000e+00\n",
       " 8.0000000e+00 5.0000000e+00 6.0000000e+00 5.0000000e+00 5.0000000e+00\n",
       " 1.0000000e+00 8.0000000e+00 0.0000000e+00 6.0000000e+00 7.0000000e+00\n",
       " 6.0000000e+00 2.0000000e+00 4.0000000e+00 4.0000000e+00 1.0000000e+00\n",
       " 1.0000000e+00 3.0000000e+00 9.0000000e+00 8.0000000e+00 1.0000000e+00\n",
       " 5.0000000e+00 5.0000000e+00 8.0000000e+00 3.0000000e+00 0.0000000e+00\n",
       " 3.0000000e+00 7.0000000e+00 7.0000000e+00 9.0000000e+00 0.0000000e+00\n",
       " 1.0000000e+00 9.0000000e+00 7.0000000e+00 1.0000000e+00 1.0000000e+00\n",
       " 3.0000000e+00 8.0000000e+00 1.0000000e+00 0.0000000e+00 1.0000000e+00\n",
       " 6.0000000e+00 7.0000000e+00 8.0000000e+00 3.0000000e+00 9.0000000e+00\n",
       " 7.0000000e+00 9.0000000e+00 4.0000000e+00 4.0000000e+00 5.0000000e+00\n",
       " 2.0000000e+00 6.0000000e+00 1.0000000e+00 6.0000000e+00 7.0000000e+00\n",
       " 7.0000000e+00 7.0000000e+00 2.0000000e+00 7.0000000e+00 4.0000000e+00\n",
       " 1.0000000e+00 0.0000000e+00 2.0000000e+00 4.0000000e+00 7.0000000e+00\n",
       " 4.0000000e+00 5.0000000e+00 4.0000000e+00 2.0000000e+00 9.0000000e+00\n",
       " 7.0000000e+00 7.0000000e+00 8.0000000e+00 4.0000000e+00 8.0000000e+00\n",
       " 8.0000000e+00 8.0000000e+00 7.0000000e+00 8.0000000e+00 7.0000000e+00\n",
       " 6.0000000e+00 0.0000000e+00 5.0000000e+00 5.0000000e+00 9.0000000e+00\n",
       " 7.0000000e+00 2.0000000e+00 0.0000000e+00 0.0000000e+00 1.0000000e+00\n",
       " 0.0000000e+00 6.0000000e+00 0.0000000e+00 1.0000000e+00 0.0000000e+00\n",
       " 7.0000000e+00 1.0000000e+00 3.0000000e+00 5.0000000e+00 9.0000000e+00\n",
       " 9.0000000e+00 6.0000000e+00 8.0000000e+00 1.0000000e+00 8.0000000e+00\n",
       " 1.0000000e+00 4.0000000e+00 8.0000000e+00 4.0000000e+00 2.0000000e+00\n",
       " 5.0000000e+00 5.0000000e+00 3.0000000e+00 1.0000000e+00 0.0000000e+00\n",
       " 0.0000000e+00 6.0000000e+00 4.0000000e+00 1.0000000e+00 5.0000000e+00\n",
       " 9.0000000e+00 2.0000000e+00 4.0000000e+00 9.0000000e+00 2.0000000e+00\n",
       " 1.0000000e+00 2.0000000e+00 0.0000000e+00 4.0000000e+00 9.0000000e+00\n",
       " 9.0000000e+00 8.0000000e+00 6.0000000e+00 9.0000000e+00 3.0000000e+00\n",
       " 3.0000000e+00 6.0000000e+00 1.0000000e+00 0.0000000e+00 1.0000000e+00\n",
       " 9.0000000e+00 0.0000000e+00 5.0000000e+00 2.0000000e+00 7.0000000e+00\n",
       " 9.0000000e+00 2.0000000e+00 5.0000000e+00 8.0000000e+00 1.0000000e+00\n",
       " 5.0000000e+00 2.0000000e+00 8.0000000e+00 8.0000000e+00 9.0000000e+00\n",
       " 8.0000000e+00 4.0000000e+00 9.0000000e+00 7.0000000e+00 0.0000000e+00\n",
       " 5.0000000e+00 9.0000000e+00 9.0000000e+00 9.0000000e+00 6.0000000e+00\n",
       " 9.0000000e+00 3.0000000e+00 2.0000000e+00 3.0000000e+00 4.0000000e+00\n",
       " 4.0000000e+00 9.0000000e+00 2.0000000e+00 3.0000000e+00 8.0000000e+00\n",
       " 9.0000000e+00 8.0000000e+00 3.0000000e+00 5.0000000e+00 7.0000000e+00\n",
       " 9.0000000e+00 9.0000000e+00 9.0000000e+00 6.0000000e+00 2.0000000e+00\n",
       " 4.0000000e+00 3.0000000e+00 5.0000000e+00 2.0000000e+00 4.0000000e+00\n",
       " 3.0000000e+00 4.0000000e+00 7.0000000e+00 7.0000000e+00 3.0000000e+00\n",
       " 8.0000000e+00 2.0000000e+00 3.0000000e+00 5.0000000e+00 5.0000000e+00\n",
       " 1.0000000e+00 5.0000000e+00 7.0000000e+00 2.0000000e+00 2.0000000e+00\n",
       " 8.0000000e+00 5.0000000e+00 2.0000000e+00 0.0000000e+00 5.0000000e+00\n",
       " 4.0000000e+00 7.0000000e+00 1.0000000e+00 6.0000000e+00 7.0000000e+00\n",
       " 4.0000000e+00 1.0000000e+00 2.0000000e+00 8.0000000e+00 8.0000000e+00\n",
       " 9.0000000e+00 6.0000000e+00 5.0000000e+00 5.0000000e+00 5.0000000e+00\n",
       " 5.0000000e+00 3.0000000e+00 3.0000000e+00 2.0000000e+00 8.0000000e+00\n",
       " 4.0000000e+00 2.0000000e+00 4.0000000e+00 4.0000000e+00 0.0000000e+00\n",
       " 4.0000000e+00 8.0000000e+00 0.0000000e+00 4.0000000e+00 4.0000000e+00\n",
       " 5.0000000e+00 4.0000000e+00 8.0000000e+00 5.0000000e+00 3.0000000e+00\n",
       " 4.0000000e+00 0.0000000e+00 7.0000000e+00 4.0000000e+00 7.0000000e+00\n",
       " 7.0000000e+00 7.0000000e+00 7.0000000e+00 1.0000000e+00 8.0000000e+00\n",
       " 8.0000000e+00 3.0000000e+00 5.0000000e+00 1.0000000e+00 1.0000000e+00\n",
       " 8.0000000e+00 1.0000000e+00 3.0000000e+00 5.0000000e+00 7.0000000e+00\n",
       " 1.0000000e+00 0.0000000e+00 2.0000000e+00 1.0000000e+00 2.0000000e+00\n",
       " 2.0000000e+00 7.0000000e+00 6.0000000e+00 7.0000000e+00 4.0000000e+00\n",
       " 7.0000000e+00 3.0000000e+00 8.0000000e+00 2.0000000e+00 6.0000000e+00\n",
       " 0.0000000e+00 4.0000000e+00 4.0000000e+00 0.0000000e+00 2.0000000e+00\n",
       " 4.0000000e+00 5.0000000e+00 9.0000000e+00 7.0000000e+00 9.0000000e+00\n",
       " 3.0000000e+00 0.0000000e+00 3.0000000e+00 6.0000000e+00 5.0000000e+00\n",
       " 9.0000000e+00 8.0000000e+00 8.0000000e+00 0.0000000e+00 1.0000000e+00\n",
       " 2.0000000e+00 8.0000000e+00 9.0000000e+00 3.0000000e+00 6.0000000e+00\n",
       " 4.0000000e+00 3.0000000e+00 5.0000000e+00 3.0000000e+00 2.0000000e+00\n",
       " 8.0000000e+00 8.0000000e+00 2.0000000e+00 1.0000000e+00 8.0000000e+00\n",
       " 4.0000000e+00 8.0000000e+00 9.0000000e+00 9.0000000e+00 7.0000000e+00\n",
       " 8.0000000e+00 5.0000000e+00 9.0000000e+00 4.0000000e+00 0.0000000e+00\n",
       " 2.0000000e+00 9.0000000e+00 9.0000000e+00 3.0000000e+00 1.0000000e+00\n",
       " 2.0000000e+00 9.0000000e+00 8.0000000e+00 7.0000000e+00 4.0000000e+00\n",
       " 2.0000000e+00 2.0000000e+00 6.0000000e+00 4.0000000e+00 1.0000000e+00\n",
       " 5.0000000e+00 8.0000000e+00 9.0000000e+00 0.0000000e+00 9.0000000e+00\n",
       " 8.0000000e+00 9.0000000e+00 3.0000000e+00 8.0000000e+00 9.0000000e+00\n",
       " 9.0000000e+00 5.0000000e+00 7.0000000e+00 0.0000000e+00 4.0000000e+00\n",
       " 7.0000000e+00 5.0000000e+00 3.0000000e+00 7.0000000e+00 2.0000000e+00\n",
       " 1.0000000e+00 2.0000000e+00 0.0000000e+00 2.0000000e+00 9.0000000e+00\n",
       " 3.0000000e+00 5.0000000e+00 5.0000000e+00 1.0000000e+00 5.0000000e+00\n",
       " 3.0000000e+00 7.0000000e+00 8.0000000e+00 5.0000000e+00 0.0000000e+00\n",
       " 1.0000000e+00 6.0000000e+00 4.0000000e+00 3.0000000e+00 5.0000000e+00\n",
       " 5.0000000e+00 0.0000000e+00 0.0000000e+00 4.0000000e+00 2.0000000e+00\n",
       " 8.0000000e+00 4.0000000e+00 3.0000000e+00 5.0000000e+00 3.0000000e+00\n",
       " 3.0000000e+00 7.0000000e+00 4.0000000e+00 0.0000000e+00 0.0000000e+00\n",
       " 8.0000000e+00 5.0000000e+00 3.0000000e+00 4.0000000e+00 0.0000000e+00\n",
       " 0.0000000e+00 4.0000000e+00 9.0000000e+00 3.0000000e+00 6.0000000e+00\n",
       " 0.0000000e+00 4.0000000e+00 7.0000000e+00 9.0000000e+00 4.0000000e+00\n",
       " 1.0000000e+00 8.0000000e+00 4.0000000e+00 4.0000000e+00 7.0000000e+00\n",
       " 7.0000000e+00 0.0000000e+00 6.0000000e+00 0.0000000e+00 2.0000000e+00\n",
       " 1.0000000e+00 2.0000000e+00 5.0000000e+00 6.0000000e+00 8.0000000e+00\n",
       " 1.0000000e+00 1.0000000e+00 0.0000000e+00 6.0000000e+00 7.0000000e+00\n",
       " 9.0000000e+00 8.0000000e+00 8.0000000e+00 3.0000000e+00 5.0000000e+00\n",
       " 6.0000000e+00 7.0000000e+00 8.0000000e+00 3.0000000e+00 2.0000000e+00\n",
       " 9.0000000e+00 0.0000000e+00 7.0000000e+00 8.0000000e+00 6.0000000e+00\n",
       " 9.0000000e+00 7.0000000e+00 0.0000000e+00 8.0000000e+00 7.0000000e+00\n",
       " 6.0000000e+00 0.0000000e+00 5.0000000e+00 0.0000000e+00 8.0000000e+00\n",
       " 7.0000000e+00 5.0000000e+00 6.0000000e+00 4.0000000e+00 4.0000000e+00\n",
       " 7.0000000e+00 4.0000000e+00 9.0000000e+00 0.0000000e+00 4.6737463e-35]\n",
       "<NDArray 1000 @cpu(0)>"
      ]
     },
     "execution_count": 42,
     "metadata": {},
     "output_type": "execute_result"
    }
   ],
   "source": [
    "Y"
   ]
  },
  {
   "cell_type": "markdown",
   "metadata": {},
   "source": [
    "Next, we’re splitting the data set <b>80/20</b> for training and validation. We use the <b>NDArray.crop</b> function to do this. Here, the data set is completely random, so we can use the top 80% for training and the bottom 20% for validation. In real life, we’d probably shuffle the data set first, in order to avoid potential bias on sequentially-generated data."
   ]
  },
  {
   "cell_type": "code",
   "execution_count": 43,
   "metadata": {},
   "outputs": [],
   "source": [
    "X_train = mx.nd.crop(X, begin=(0,0), end=(train_count,feature_count-1))\n",
    "X_valid = mx.nd.crop(X, begin=(train_count,0), end=(sample_count,feature_count-1))\n",
    "Y_train = Y[0:train_count]\n",
    "Y_valid = Y[train_count:sample_count]"
   ]
  },
  {
   "cell_type": "code",
   "execution_count": 44,
   "metadata": {},
   "outputs": [
    {
     "data": {
      "text/plain": [
       "(\n",
       " [[5.4488319e-01 8.4725171e-01 4.2365479e-01 ... 4.3860152e-01\n",
       "   6.3427407e-01 4.1702199e-01]\n",
       "  [7.2032452e-01 9.3255734e-01 1.1438108e-04 ... 4.3599489e-01\n",
       "   1.8508208e-01 2.5926229e-02]\n",
       "  [5.4966247e-01 9.4773060e-01 4.3532240e-01 ... 7.0814782e-01\n",
       "   8.3994907e-01 2.9090473e-01]\n",
       "  ...\n",
       "  [6.1241025e-01 3.3565557e-01 5.1378232e-01 ... 2.5242317e-02\n",
       "   4.5300153e-01 4.9613327e-01]\n",
       "  [1.8546613e-01 7.9761771e-03 1.0658611e-01 ... 1.4423901e-01\n",
       "   4.0589385e-02 2.5427176e-02]\n",
       "  [4.8193234e-01 5.3407621e-01 5.2616858e-01 ... 7.7467811e-01\n",
       "   6.3737631e-01 3.4650627e-01]]\n",
       " <NDArray 800x99 @cpu(0)>,\n",
       " \n",
       " [3. 0. 9. 8. 8. 6. 7. 9. 4. 9. 1. 4. 5. 3. 9. 6. 2. 6. 1. 6. 8. 6. 5. 8.\n",
       "  0. 4. 0. 4. 5. 2. 8. 7. 4. 3. 3. 0. 3. 1. 1. 9. 2. 9. 0. 3. 7. 5. 2. 2.\n",
       "  8. 8. 9. 7. 7. 1. 9. 9. 8. 9. 6. 7. 5. 8. 7. 9. 5. 6. 4. 2. 7. 7. 8. 3.\n",
       "  9. 5. 5. 1. 8. 5. 7. 5. 5. 5. 9. 8. 8. 1. 2. 9. 5. 5. 5. 3. 7. 6. 1. 3.\n",
       "  3. 4. 9. 3. 6. 7. 6. 3. 6. 0. 6. 9. 6. 9. 7. 3. 0. 1. 4. 5. 1. 6. 8. 3.\n",
       "  3. 8. 8. 1. 1. 1. 2. 3. 7. 3. 3. 6. 3. 1. 4. 4. 4. 4. 4. 9. 9. 8. 3. 8.\n",
       "  6. 6. 1. 4. 2. 3. 6. 4. 2. 5. 0. 9. 1. 5. 0. 5. 3. 8. 0. 9. 0. 9. 9. 9.\n",
       "  9. 7. 1. 7. 8. 9. 3. 4. 8. 2. 8. 2. 5. 5. 7. 0. 5. 5. 5. 7. 2. 8. 4. 0.\n",
       "  8. 2. 7. 0. 0. 3. 2. 6. 3. 7. 2. 2. 7. 0. 5. 9. 2. 1. 2. 9. 0. 2. 6. 7.\n",
       "  8. 8. 8. 8. 6. 8. 9. 0. 6. 7. 8. 3. 9. 8. 3. 8. 4. 4. 0. 1. 7. 2. 8. 9.\n",
       "  6. 5. 1. 6. 2. 2. 5. 2. 9. 8. 6. 9. 8. 7. 2. 2. 9. 3. 9. 3. 2. 0. 0. 6.\n",
       "  7. 5. 6. 0. 3. 5. 7. 0. 7. 6. 5. 3. 4. 1. 9. 5. 5. 5. 9. 8. 7. 2. 4. 7.\n",
       "  0. 4. 8. 3. 3. 4. 6. 8. 0. 5. 4. 4. 8. 1. 5. 8. 4. 1. 8. 1. 7. 7. 4. 9.\n",
       "  2. 7. 7. 3. 5. 3. 7. 2. 7. 2. 0. 3. 1. 5. 0. 5. 1. 9. 0. 3. 7. 2. 3. 3.\n",
       "  8. 8. 9. 8. 0. 5. 5. 4. 5. 6. 5. 7. 2. 8. 7. 2. 0. 9. 9. 5. 7. 7. 2. 5.\n",
       "  4. 6. 6. 6. 7. 0. 4. 6. 1. 1. 2. 0. 1. 3. 2. 4. 7. 5. 7. 3. 2. 7. 1. 9.\n",
       "  2. 6. 2. 3. 2. 1. 9. 1. 3. 7. 8. 7. 0. 7. 3. 9. 2. 7. 4. 7. 7. 1. 2. 2.\n",
       "  9. 2. 1. 4. 9. 1. 2. 3. 7. 6. 9. 6. 1. 0. 8. 4. 5. 7. 1. 7. 0. 8. 4. 5.\n",
       "  0. 2. 3. 5. 2. 6. 6. 4. 6. 1. 4. 0. 6. 0. 2. 9. 6. 5. 8. 2. 1. 6. 2. 5.\n",
       "  6. 0. 2. 1. 1. 7. 7. 6. 9. 8. 8. 5. 8. 5. 3. 4. 0. 0. 1. 5. 6. 8. 6. 1.\n",
       "  7. 5. 1. 4. 0. 0. 9. 1. 1. 3. 7. 9. 8. 1. 0. 2. 0. 7. 6. 6. 4. 4. 8. 9.\n",
       "  9. 8. 6. 4. 8. 1. 7. 3. 2. 1. 4. 9. 9. 8. 4. 0. 0. 4. 4. 6. 9. 2. 8. 6.\n",
       "  8. 1. 1. 0. 1. 0. 5. 8. 5. 6. 5. 5. 1. 8. 0. 6. 7. 6. 2. 4. 4. 1. 1. 3.\n",
       "  9. 8. 1. 5. 5. 8. 3. 0. 3. 7. 7. 9. 0. 1. 9. 7. 1. 1. 3. 8. 1. 0. 1. 6.\n",
       "  7. 8. 3. 9. 7. 9. 4. 4. 5. 2. 6. 1. 6. 7. 7. 7. 2. 7. 4. 1. 0. 2. 4. 7.\n",
       "  4. 5. 4. 2. 9. 7. 7. 8. 4. 8. 8. 8. 7. 8. 7. 6. 0. 5. 5. 9. 7. 2. 0. 0.\n",
       "  1. 0. 6. 0. 1. 0. 7. 1. 3. 5. 9. 9. 6. 8. 1. 8. 1. 4. 8. 4. 2. 5. 5. 3.\n",
       "  1. 0. 0. 6. 4. 1. 5. 9. 2. 4. 9. 2. 1. 2. 0. 4. 9. 9. 8. 6. 9. 3. 3. 6.\n",
       "  1. 0. 1. 9. 0. 5. 2. 7. 9. 2. 5. 8. 1. 5. 2. 8. 8. 9. 8. 4. 9. 7. 0. 5.\n",
       "  9. 9. 9. 6. 9. 3. 2. 3. 4. 4. 9. 2. 3. 8. 9. 8. 3. 5. 7. 9. 9. 9. 6. 2.\n",
       "  4. 3. 5. 2. 4. 3. 4. 7. 7. 3. 8. 2. 3. 5. 5. 1. 5. 7. 2. 2. 8. 5. 2. 0.\n",
       "  5. 4. 7. 1. 6. 7. 4. 1. 2. 8. 8. 9. 6. 5. 5. 5. 5. 3. 3. 2. 8. 4. 2. 4.\n",
       "  4. 0. 4. 8. 0. 4. 4. 5. 4. 8. 5. 3. 4. 0. 7. 4. 7. 7. 7. 7. 1. 8. 8. 3.\n",
       "  5. 1. 1. 8. 1. 3. 5. 7.]\n",
       " <NDArray 800 @cpu(0)>)"
      ]
     },
     "execution_count": 44,
     "metadata": {},
     "output_type": "execute_result"
    }
   ],
   "source": [
    "X_train,Y_train"
   ]
  },
  {
   "cell_type": "code",
   "execution_count": 45,
   "metadata": {},
   "outputs": [
    {
     "data": {
      "text/plain": [
       "(\n",
       " [[0.39140648 0.85629326 0.17789091 ... 0.6905203  0.43768385 0.46922636]\n",
       "  [0.59389323 0.5690968  0.7367141  ... 0.14867297 0.11666942 0.07887485]\n",
       "  [0.63512033 0.22619314 0.9367826  ... 0.2221374  0.36695755 0.13244486]\n",
       "  ...\n",
       "  [0.08187383 0.02445396 0.8538254  ... 0.39489672 0.6761157  0.17540158]\n",
       "  [0.3791897  0.84916824 0.7754339  ... 0.15374936 0.04597365 0.5409073 ]\n",
       "  [0.5594665  0.93544376 0.55588096 ... 0.38680083 0.1003636  0.9170309 ]]\n",
       " <NDArray 200x99 @cpu(0)>,\n",
       " \n",
       " [1.0000000e+00 0.0000000e+00 2.0000000e+00 1.0000000e+00 2.0000000e+00\n",
       "  2.0000000e+00 7.0000000e+00 6.0000000e+00 7.0000000e+00 4.0000000e+00\n",
       "  7.0000000e+00 3.0000000e+00 8.0000000e+00 2.0000000e+00 6.0000000e+00\n",
       "  0.0000000e+00 4.0000000e+00 4.0000000e+00 0.0000000e+00 2.0000000e+00\n",
       "  4.0000000e+00 5.0000000e+00 9.0000000e+00 7.0000000e+00 9.0000000e+00\n",
       "  3.0000000e+00 0.0000000e+00 3.0000000e+00 6.0000000e+00 5.0000000e+00\n",
       "  9.0000000e+00 8.0000000e+00 8.0000000e+00 0.0000000e+00 1.0000000e+00\n",
       "  2.0000000e+00 8.0000000e+00 9.0000000e+00 3.0000000e+00 6.0000000e+00\n",
       "  4.0000000e+00 3.0000000e+00 5.0000000e+00 3.0000000e+00 2.0000000e+00\n",
       "  8.0000000e+00 8.0000000e+00 2.0000000e+00 1.0000000e+00 8.0000000e+00\n",
       "  4.0000000e+00 8.0000000e+00 9.0000000e+00 9.0000000e+00 7.0000000e+00\n",
       "  8.0000000e+00 5.0000000e+00 9.0000000e+00 4.0000000e+00 0.0000000e+00\n",
       "  2.0000000e+00 9.0000000e+00 9.0000000e+00 3.0000000e+00 1.0000000e+00\n",
       "  2.0000000e+00 9.0000000e+00 8.0000000e+00 7.0000000e+00 4.0000000e+00\n",
       "  2.0000000e+00 2.0000000e+00 6.0000000e+00 4.0000000e+00 1.0000000e+00\n",
       "  5.0000000e+00 8.0000000e+00 9.0000000e+00 0.0000000e+00 9.0000000e+00\n",
       "  8.0000000e+00 9.0000000e+00 3.0000000e+00 8.0000000e+00 9.0000000e+00\n",
       "  9.0000000e+00 5.0000000e+00 7.0000000e+00 0.0000000e+00 4.0000000e+00\n",
       "  7.0000000e+00 5.0000000e+00 3.0000000e+00 7.0000000e+00 2.0000000e+00\n",
       "  1.0000000e+00 2.0000000e+00 0.0000000e+00 2.0000000e+00 9.0000000e+00\n",
       "  3.0000000e+00 5.0000000e+00 5.0000000e+00 1.0000000e+00 5.0000000e+00\n",
       "  3.0000000e+00 7.0000000e+00 8.0000000e+00 5.0000000e+00 0.0000000e+00\n",
       "  1.0000000e+00 6.0000000e+00 4.0000000e+00 3.0000000e+00 5.0000000e+00\n",
       "  5.0000000e+00 0.0000000e+00 0.0000000e+00 4.0000000e+00 2.0000000e+00\n",
       "  8.0000000e+00 4.0000000e+00 3.0000000e+00 5.0000000e+00 3.0000000e+00\n",
       "  3.0000000e+00 7.0000000e+00 4.0000000e+00 0.0000000e+00 0.0000000e+00\n",
       "  8.0000000e+00 5.0000000e+00 3.0000000e+00 4.0000000e+00 0.0000000e+00\n",
       "  0.0000000e+00 4.0000000e+00 9.0000000e+00 3.0000000e+00 6.0000000e+00\n",
       "  0.0000000e+00 4.0000000e+00 7.0000000e+00 9.0000000e+00 4.0000000e+00\n",
       "  1.0000000e+00 8.0000000e+00 4.0000000e+00 4.0000000e+00 7.0000000e+00\n",
       "  7.0000000e+00 0.0000000e+00 6.0000000e+00 0.0000000e+00 2.0000000e+00\n",
       "  1.0000000e+00 2.0000000e+00 5.0000000e+00 6.0000000e+00 8.0000000e+00\n",
       "  1.0000000e+00 1.0000000e+00 0.0000000e+00 6.0000000e+00 7.0000000e+00\n",
       "  9.0000000e+00 8.0000000e+00 8.0000000e+00 3.0000000e+00 5.0000000e+00\n",
       "  6.0000000e+00 7.0000000e+00 8.0000000e+00 3.0000000e+00 2.0000000e+00\n",
       "  9.0000000e+00 0.0000000e+00 7.0000000e+00 8.0000000e+00 6.0000000e+00\n",
       "  9.0000000e+00 7.0000000e+00 0.0000000e+00 8.0000000e+00 7.0000000e+00\n",
       "  6.0000000e+00 0.0000000e+00 5.0000000e+00 0.0000000e+00 8.0000000e+00\n",
       "  7.0000000e+00 5.0000000e+00 6.0000000e+00 4.0000000e+00 4.0000000e+00\n",
       "  7.0000000e+00 4.0000000e+00 9.0000000e+00 0.0000000e+00 4.6737463e-35]\n",
       " <NDArray 200 @cpu(0)>)"
      ]
     },
     "execution_count": 45,
     "metadata": {},
     "output_type": "execute_result"
    }
   ],
   "source": [
    "X_valid , Y_valid "
   ]
  },
  {
   "cell_type": "markdown",
   "metadata": {},
   "source": [
    "#### Building the network"
   ]
  },
  {
   "cell_type": "markdown",
   "metadata": {},
   "source": [
    "<b>Input layer:</b> The input layer is represented by a Symbol named ‘data’. We’ll bind it to the actual input data later on."
   ]
  },
  {
   "cell_type": "code",
   "execution_count": 46,
   "metadata": {},
   "outputs": [],
   "source": [
    "data = mx.sym.Variable('data')"
   ]
  },
  {
   "cell_type": "markdown",
   "metadata": {},
   "source": [
    "<b>First hidden layer:</b> fc1, the first hidden layer is built from 64 fully-connected neurons, i.e. each feature in the input layer is connected to all 64 neurons. As you can see, we use the high-level <b>Symbol.FullyConnected</b> function, which is much more convenient than building each connection manually!"
   ]
  },
  {
   "cell_type": "code",
   "execution_count": 47,
   "metadata": {},
   "outputs": [],
   "source": [
    "fc1 = mx.sym.FullyConnected(data, name='fc1', num_hidden=64)\n"
   ]
  },
  {
   "cell_type": "markdown",
   "metadata": {},
   "source": [
    "<b> Activation function:</b> Each output of fc1 goes through an activation function. Here we use a <b>rectified linear</b> unit, aka ‘relu’. An activation function is how we decide whether a neuron should “fire” or not, i.e. whether its inputs are meaningful enough in predicting the correct result.\n"
   ]
  },
  {
   "cell_type": "code",
   "execution_count": 48,
   "metadata": {},
   "outputs": [],
   "source": [
    "relu1 = mx.sym.Activation(fc1, name='relu1', act_type=\"relu\")\n"
   ]
  },
  {
   "cell_type": "markdown",
   "metadata": {},
   "source": [
    "<b>Second hidden layer:</b>fc2, the second hidden layer is built from 10 fully-connected neurons, which map to our 10 categories. Each neuron outputs a float value of arbitrary scale. The largest of the 10 values represents the most likely category for the data sample."
   ]
  },
  {
   "cell_type": "code",
   "execution_count": 49,
   "metadata": {},
   "outputs": [],
   "source": [
    "fc2 = mx.sym.FullyConnected(relu1, name='fc2', num_hidden=category_count)"
   ]
  },
  {
   "cell_type": "markdown",
   "metadata": {},
   "source": [
    "<b> Output layer:</b> The output layer applies the Softmax function to the 10 values coming from the fc2 layer: they are transformed into 10 values between 0 and 1 that add up to 1. Each value represents the predicted probability for each category, the largest one pointing at the most likely category."
   ]
  },
  {
   "cell_type": "code",
   "execution_count": 50,
   "metadata": {},
   "outputs": [
    {
     "data": {
      "image/svg+xml": [
       "<?xml version=\"1.0\" encoding=\"UTF-8\" standalone=\"no\"?>\n",
       "<!DOCTYPE svg PUBLIC \"-//W3C//DTD SVG 1.1//EN\"\n",
       " \"http://www.w3.org/Graphics/SVG/1.1/DTD/svg11.dtd\">\n",
       "<!-- Generated by graphviz version 3.0.0 (20220226.1711)\n",
       " -->\n",
       "<!-- Title: plot Pages: 1 -->\n",
       "<svg width=\"214pt\" height=\"442pt\"\n",
       " viewBox=\"0.00 0.00 214.00 442.00\" xmlns=\"http://www.w3.org/2000/svg\" xmlns:xlink=\"http://www.w3.org/1999/xlink\">\n",
       "<g id=\"graph0\" class=\"graph\" transform=\"scale(1 1) rotate(0) translate(4 438)\">\n",
       "<title>plot</title>\n",
       "<polygon fill=\"white\" stroke=\"transparent\" points=\"-4,4 -4,-438 210,-438 210,4 -4,4\"/>\n",
       "<!-- data -->\n",
       "<g id=\"node1\" class=\"node\">\n",
       "<title>data</title>\n",
       "<ellipse fill=\"#8dd3c7\" stroke=\"black\" cx=\"47\" cy=\"-29\" rx=\"47\" ry=\"29\"/>\n",
       "<text text-anchor=\"middle\" x=\"47\" y=\"-25.3\" font-family=\"Times,serif\" font-size=\"14.00\">data</text>\n",
       "</g>\n",
       "<!-- fc1 -->\n",
       "<g id=\"node2\" class=\"node\">\n",
       "<title>fc1</title>\n",
       "<polygon fill=\"#fb8072\" stroke=\"black\" points=\"94,-152 0,-152 0,-94 94,-94 94,-152\"/>\n",
       "<text text-anchor=\"middle\" x=\"47\" y=\"-126.8\" font-family=\"Times,serif\" font-size=\"14.00\">FullyConnected</text>\n",
       "<text text-anchor=\"middle\" x=\"47\" y=\"-111.8\" font-family=\"Times,serif\" font-size=\"14.00\">64</text>\n",
       "</g>\n",
       "<!-- fc1&#45;&gt;data -->\n",
       "<g id=\"edge1\" class=\"edge\">\n",
       "<title>fc1&#45;&gt;data</title>\n",
       "<path fill=\"none\" stroke=\"black\" d=\"M47,-83.74C47,-75.2 47,-66.3 47,-58.25\"/>\n",
       "<polygon fill=\"black\" stroke=\"black\" points=\"47,-93.9 42.5,-83.9 47,-88.9 47,-83.9 47,-83.9 47,-83.9 47,-88.9 51.5,-83.9 47,-93.9 47,-93.9\"/>\n",
       "</g>\n",
       "<!-- relu1 -->\n",
       "<g id=\"node3\" class=\"node\">\n",
       "<title>relu1</title>\n",
       "<polygon fill=\"#ffffb3\" stroke=\"black\" points=\"94,-246 0,-246 0,-188 94,-188 94,-246\"/>\n",
       "<text text-anchor=\"middle\" x=\"47\" y=\"-220.8\" font-family=\"Times,serif\" font-size=\"14.00\">Activation</text>\n",
       "<text text-anchor=\"middle\" x=\"47\" y=\"-205.8\" font-family=\"Times,serif\" font-size=\"14.00\">relu</text>\n",
       "</g>\n",
       "<!-- relu1&#45;&gt;fc1 -->\n",
       "<g id=\"edge2\" class=\"edge\">\n",
       "<title>relu1&#45;&gt;fc1</title>\n",
       "<path fill=\"none\" stroke=\"black\" d=\"M47,-177.74C47,-169.2 47,-160.3 47,-152.25\"/>\n",
       "<polygon fill=\"black\" stroke=\"black\" points=\"47,-187.9 42.5,-177.9 47,-182.9 47,-177.9 47,-177.9 47,-177.9 47,-182.9 51.5,-177.9 47,-187.9 47,-187.9\"/>\n",
       "</g>\n",
       "<!-- fc2 -->\n",
       "<g id=\"node4\" class=\"node\">\n",
       "<title>fc2</title>\n",
       "<polygon fill=\"#fb8072\" stroke=\"black\" points=\"94,-340 0,-340 0,-282 94,-282 94,-340\"/>\n",
       "<text text-anchor=\"middle\" x=\"47\" y=\"-314.8\" font-family=\"Times,serif\" font-size=\"14.00\">FullyConnected</text>\n",
       "<text text-anchor=\"middle\" x=\"47\" y=\"-299.8\" font-family=\"Times,serif\" font-size=\"14.00\">10</text>\n",
       "</g>\n",
       "<!-- fc2&#45;&gt;relu1 -->\n",
       "<g id=\"edge3\" class=\"edge\">\n",
       "<title>fc2&#45;&gt;relu1</title>\n",
       "<path fill=\"none\" stroke=\"black\" d=\"M47,-271.74C47,-263.2 47,-254.3 47,-246.25\"/>\n",
       "<polygon fill=\"black\" stroke=\"black\" points=\"47,-281.9 42.5,-271.9 47,-276.9 47,-271.9 47,-271.9 47,-271.9 47,-276.9 51.5,-271.9 47,-281.9 47,-281.9\"/>\n",
       "</g>\n",
       "<!-- softmax_label -->\n",
       "<g id=\"node5\" class=\"node\">\n",
       "<title>softmax_label</title>\n",
       "<ellipse fill=\"#8dd3c7\" stroke=\"black\" cx=\"159\" cy=\"-311\" rx=\"47\" ry=\"29\"/>\n",
       "<text text-anchor=\"middle\" x=\"159\" y=\"-307.3\" font-family=\"Times,serif\" font-size=\"14.00\">softmax_label</text>\n",
       "</g>\n",
       "<!-- softmax -->\n",
       "<g id=\"node6\" class=\"node\">\n",
       "<title>softmax</title>\n",
       "<polygon fill=\"#fccde5\" stroke=\"black\" points=\"150,-434 56,-434 56,-376 150,-376 150,-434\"/>\n",
       "<text text-anchor=\"middle\" x=\"103\" y=\"-401.3\" font-family=\"Times,serif\" font-size=\"14.00\">softmax</text>\n",
       "</g>\n",
       "<!-- softmax&#45;&gt;fc2 -->\n",
       "<g id=\"edge4\" class=\"edge\">\n",
       "<title>softmax&#45;&gt;fc2</title>\n",
       "<path fill=\"none\" stroke=\"black\" d=\"M80.57,-367.15C75.11,-358.19 69.36,-348.74 64.19,-340.25\"/>\n",
       "<polygon fill=\"black\" stroke=\"black\" points=\"85.89,-375.9 76.85,-369.69 83.29,-371.63 80.69,-367.36 80.69,-367.36 80.69,-367.36 83.29,-371.63 84.54,-365.02 85.89,-375.9 85.89,-375.9\"/>\n",
       "</g>\n",
       "<!-- softmax&#45;&gt;softmax_label -->\n",
       "<g id=\"edge5\" class=\"edge\">\n",
       "<title>softmax&#45;&gt;softmax_label</title>\n",
       "<path fill=\"none\" stroke=\"black\" d=\"M125.38,-367.24C131.26,-357.58 137.48,-347.35 142.95,-338.36\"/>\n",
       "<polygon fill=\"black\" stroke=\"black\" points=\"120.11,-375.9 121.46,-365.02 122.71,-371.63 125.31,-367.36 125.31,-367.36 125.31,-367.36 122.71,-371.63 129.15,-369.69 120.11,-375.9 120.11,-375.9\"/>\n",
       "</g>\n",
       "</g>\n",
       "</svg>\n"
      ],
      "text/plain": [
       "<graphviz.dot.Digraph at 0x7ff23c0bdca0>"
      ]
     },
     "execution_count": 50,
     "metadata": {},
     "output_type": "execute_result"
    }
   ],
   "source": [
    "out = mx.sym.SoftmaxOutput(fc2, name='softmax')\n",
    "mx.viz.plot_network (symbol=out)\n",
    "\n"
   ]
  },
  {
   "cell_type": "code",
   "execution_count": 51,
   "metadata": {},
   "outputs": [],
   "source": [
    "mod = mx.mod.Module(out) # create a module by given a Symbol, here is \"out\""
   ]
  },
  {
   "cell_type": "markdown",
   "metadata": {},
   "source": [
    "### Building the data iterator\n"
   ]
  },
  {
   "cell_type": "markdown",
   "metadata": {},
   "source": [
    "We can iterate on the data set, <b>10 samples and 10 labels at a time.</b> We then call the reset() function to restore the iterator to its original state."
   ]
  },
  {
   "cell_type": "code",
   "execution_count": 52,
   "metadata": {},
   "outputs": [],
   "source": [
    "train_iter = mx.io.NDArrayIter(data=X_train,label=Y_train,batch_size=batch)"
   ]
  },
  {
   "cell_type": "markdown",
   "metadata": {},
   "source": [
    "### Training the model"
   ]
  },
  {
   "cell_type": "markdown",
   "metadata": {},
   "source": [
    "First, let’s bind the input symbol to the actual data set (samples and labels). This is where the iterator comes in handy."
   ]
  },
  {
   "cell_type": "code",
   "execution_count": 53,
   "metadata": {},
   "outputs": [],
   "source": [
    "mod.bind(data_shapes=train_iter.provide_data, label_shapes=train_iter.provide_label) ## create memory by given input shapes\n"
   ]
  },
  {
   "cell_type": "markdown",
   "metadata": {},
   "source": [
    "Next, let’s initialize the neuron weights in the network. This is actually a very important step: initializing them with the “right” technique will help the network learn much faster. The <b>Xavier initializer</b> is one of these techniques."
   ]
  },
  {
   "cell_type": "code",
   "execution_count": 54,
   "metadata": {},
   "outputs": [],
   "source": [
    "mod.init_params(initializer=mx.init.Xavier(magnitude=2.))\n"
   ]
  },
  {
   "cell_type": "markdown",
   "metadata": {},
   "source": [
    "Next, we need to define the <b>optimization parameters:</b> <br>\n",
    "1) We’re using the Stochastic <b>Gradient Descent algorithm (aka SGD)</b> <br>\n",
    "2) We’re setting the learning rate to 0.1, a pretty typical value for SGD."
   ]
  },
  {
   "cell_type": "code",
   "execution_count": 55,
   "metadata": {},
   "outputs": [],
   "source": [
    "mod.init_optimizer(optimizer='sgd', optimizer_params=(('learning_rate', 0.1), ))"
   ]
  },
  {
   "cell_type": "markdown",
   "metadata": {},
   "source": [
    "And finally, we can <b>train the network!</b> We’re doing it over 50 epochs, which means the full data set will flow over 50 times through the network (in batches of 10 samples)."
   ]
  },
  {
   "cell_type": "code",
   "execution_count": 56,
   "metadata": {},
   "outputs": [
    {
     "name": "stderr",
     "output_type": "stream",
     "text": [
      "WARNING:root:Already bound, ignoring bind()\n",
      "/opt/anaconda3/lib/python3.8/site-packages/mxnet/module/base_module.py:501: UserWarning: Parameters already initialized and force_init=False. init_params call ignored.\n",
      "  self.init_params(initializer=initializer, arg_params=arg_params, aux_params=aux_params,\n",
      "WARNING:root:optimizer already initialized, ignoring...\n",
      "INFO:root:Epoch[0] Train-accuracy=0.100000\n",
      "INFO:root:Epoch[0] Time cost=0.056\n",
      "INFO:root:Epoch[1] Train-accuracy=0.130000\n",
      "INFO:root:Epoch[1] Time cost=0.037\n",
      "INFO:root:Epoch[2] Train-accuracy=0.145000\n",
      "INFO:root:Epoch[2] Time cost=0.037\n",
      "INFO:root:Epoch[3] Train-accuracy=0.173750\n",
      "INFO:root:Epoch[3] Time cost=0.036\n",
      "INFO:root:Epoch[4] Train-accuracy=0.175000\n",
      "INFO:root:Epoch[4] Time cost=0.037\n",
      "INFO:root:Epoch[5] Train-accuracy=0.191250\n",
      "INFO:root:Epoch[5] Time cost=0.037\n",
      "INFO:root:Epoch[6] Train-accuracy=0.211250\n",
      "INFO:root:Epoch[6] Time cost=0.037\n",
      "INFO:root:Epoch[7] Train-accuracy=0.236250\n",
      "INFO:root:Epoch[7] Time cost=0.036\n",
      "INFO:root:Epoch[8] Train-accuracy=0.258750\n",
      "INFO:root:Epoch[8] Time cost=0.037\n",
      "INFO:root:Epoch[9] Train-accuracy=0.276250\n",
      "INFO:root:Epoch[9] Time cost=0.037\n",
      "INFO:root:Epoch[10] Train-accuracy=0.298750\n",
      "INFO:root:Epoch[10] Time cost=0.037\n",
      "INFO:root:Epoch[11] Train-accuracy=0.320000\n",
      "INFO:root:Epoch[11] Time cost=0.037\n",
      "INFO:root:Epoch[12] Train-accuracy=0.333750\n",
      "INFO:root:Epoch[12] Time cost=0.036\n",
      "INFO:root:Epoch[13] Train-accuracy=0.346250\n",
      "INFO:root:Epoch[13] Time cost=0.036\n",
      "INFO:root:Epoch[14] Train-accuracy=0.361250\n",
      "INFO:root:Epoch[14] Time cost=0.039\n",
      "INFO:root:Epoch[15] Train-accuracy=0.378750\n",
      "INFO:root:Epoch[15] Time cost=0.039\n",
      "INFO:root:Epoch[16] Train-accuracy=0.405000\n",
      "INFO:root:Epoch[16] Time cost=0.035\n",
      "INFO:root:Epoch[17] Train-accuracy=0.420000\n",
      "INFO:root:Epoch[17] Time cost=0.036\n",
      "INFO:root:Epoch[18] Train-accuracy=0.436250\n",
      "INFO:root:Epoch[18] Time cost=0.035\n",
      "INFO:root:Epoch[19] Train-accuracy=0.462500\n",
      "INFO:root:Epoch[19] Time cost=0.037\n",
      "INFO:root:Epoch[20] Train-accuracy=0.470000\n",
      "INFO:root:Epoch[20] Time cost=0.036\n",
      "INFO:root:Epoch[21] Train-accuracy=0.486250\n",
      "INFO:root:Epoch[21] Time cost=0.036\n",
      "INFO:root:Epoch[22] Train-accuracy=0.515000\n",
      "INFO:root:Epoch[22] Time cost=0.036\n",
      "INFO:root:Epoch[23] Train-accuracy=0.553750\n",
      "INFO:root:Epoch[23] Time cost=0.036\n",
      "INFO:root:Epoch[24] Train-accuracy=0.572500\n",
      "INFO:root:Epoch[24] Time cost=0.036\n",
      "INFO:root:Epoch[25] Train-accuracy=0.603750\n",
      "INFO:root:Epoch[25] Time cost=0.035\n",
      "INFO:root:Epoch[26] Train-accuracy=0.618750\n",
      "INFO:root:Epoch[26] Time cost=0.035\n",
      "INFO:root:Epoch[27] Train-accuracy=0.660000\n",
      "INFO:root:Epoch[27] Time cost=0.037\n",
      "INFO:root:Epoch[28] Train-accuracy=0.682500\n",
      "INFO:root:Epoch[28] Time cost=0.036\n",
      "INFO:root:Epoch[29] Train-accuracy=0.700000\n",
      "INFO:root:Epoch[29] Time cost=0.036\n",
      "INFO:root:Epoch[30] Train-accuracy=0.735000\n",
      "INFO:root:Epoch[30] Time cost=0.039\n",
      "INFO:root:Epoch[31] Train-accuracy=0.753750\n",
      "INFO:root:Epoch[31] Time cost=0.045\n",
      "INFO:root:Epoch[32] Train-accuracy=0.781250\n",
      "INFO:root:Epoch[32] Time cost=0.034\n",
      "INFO:root:Epoch[33] Train-accuracy=0.795000\n",
      "INFO:root:Epoch[33] Time cost=0.035\n",
      "INFO:root:Epoch[34] Train-accuracy=0.816250\n",
      "INFO:root:Epoch[34] Time cost=0.036\n",
      "INFO:root:Epoch[35] Train-accuracy=0.843750\n",
      "INFO:root:Epoch[35] Time cost=0.037\n",
      "INFO:root:Epoch[36] Train-accuracy=0.851250\n",
      "INFO:root:Epoch[36] Time cost=0.036\n",
      "INFO:root:Epoch[37] Train-accuracy=0.883750\n",
      "INFO:root:Epoch[37] Time cost=0.036\n",
      "INFO:root:Epoch[38] Train-accuracy=0.896250\n",
      "INFO:root:Epoch[38] Time cost=0.038\n",
      "INFO:root:Epoch[39] Train-accuracy=0.918750\n",
      "INFO:root:Epoch[39] Time cost=0.035\n",
      "INFO:root:Epoch[40] Train-accuracy=0.931250\n",
      "INFO:root:Epoch[40] Time cost=0.036\n",
      "INFO:root:Epoch[41] Train-accuracy=0.941250\n",
      "INFO:root:Epoch[41] Time cost=0.037\n",
      "INFO:root:Epoch[42] Train-accuracy=0.941250\n",
      "INFO:root:Epoch[42] Time cost=0.035\n",
      "INFO:root:Epoch[43] Train-accuracy=0.957500\n",
      "INFO:root:Epoch[43] Time cost=0.035\n",
      "INFO:root:Epoch[44] Train-accuracy=0.966250\n",
      "INFO:root:Epoch[44] Time cost=0.035\n",
      "INFO:root:Epoch[45] Train-accuracy=0.973750\n",
      "INFO:root:Epoch[45] Time cost=0.037\n",
      "INFO:root:Epoch[46] Train-accuracy=0.982500\n",
      "INFO:root:Epoch[46] Time cost=0.036\n",
      "INFO:root:Epoch[47] Train-accuracy=0.981250\n",
      "INFO:root:Epoch[47] Time cost=0.036\n",
      "INFO:root:Epoch[48] Train-accuracy=0.992500\n",
      "INFO:root:Epoch[48] Time cost=0.037\n",
      "INFO:root:Epoch[49] Train-accuracy=0.992500\n",
      "INFO:root:Epoch[49] Time cost=0.035\n",
      "INFO:root:Epoch[50] Train-accuracy=0.993750\n",
      "INFO:root:Epoch[50] Time cost=0.036\n",
      "INFO:root:Epoch[51] Train-accuracy=0.995000\n",
      "INFO:root:Epoch[51] Time cost=0.037\n",
      "INFO:root:Epoch[52] Train-accuracy=0.996250\n",
      "INFO:root:Epoch[52] Time cost=0.034\n",
      "INFO:root:Epoch[53] Train-accuracy=0.998750\n",
      "INFO:root:Epoch[53] Time cost=0.033\n",
      "INFO:root:Epoch[54] Train-accuracy=0.998750\n",
      "INFO:root:Epoch[54] Time cost=0.033\n",
      "INFO:root:Epoch[55] Train-accuracy=0.998750\n",
      "INFO:root:Epoch[55] Time cost=0.035\n",
      "INFO:root:Epoch[56] Train-accuracy=1.000000\n",
      "INFO:root:Epoch[56] Time cost=0.034\n",
      "INFO:root:Epoch[57] Train-accuracy=1.000000\n",
      "INFO:root:Epoch[57] Time cost=0.035\n",
      "INFO:root:Epoch[58] Train-accuracy=1.000000\n",
      "INFO:root:Epoch[58] Time cost=0.033\n",
      "INFO:root:Epoch[59] Train-accuracy=1.000000\n",
      "INFO:root:Epoch[59] Time cost=0.034\n"
     ]
    }
   ],
   "source": [
    "mod.fit(train_iter, num_epoch=60)"
   ]
  },
  {
   "cell_type": "markdown",
   "metadata": {},
   "source": [
    "As we can see, the training accuracy rises rapidly and reaches 99+% after 50 epochs. It looks like our network was able to learn the training set. "
   ]
  },
  {
   "cell_type": "code",
   "execution_count": null,
   "metadata": {},
   "outputs": [],
   "source": []
  }
 ],
 "metadata": {
  "kernelspec": {
   "display_name": "Python 3",
   "language": "python",
   "name": "python3"
  },
  "language_info": {
   "codemirror_mode": {
    "name": "ipython",
    "version": 3
   },
   "file_extension": ".py",
   "mimetype": "text/x-python",
   "name": "python",
   "nbconvert_exporter": "python",
   "pygments_lexer": "ipython3",
   "version": "3.8.3"
  }
 },
 "nbformat": 4,
 "nbformat_minor": 4
}
